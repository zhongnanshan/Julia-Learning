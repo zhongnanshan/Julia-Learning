{
 "metadata": {
  "language": "Julia",
  "name": "",
  "signature": "sha256:8b22d2daca55d7b8c7618aecaffe720f98091923f6fd0c99c9f6fc4672dc633f"
 },
 "nbformat": 3,
 "nbformat_minor": 0,
 "worksheets": [
  {
   "cells": [
    {
     "cell_type": "heading",
     "level": 1,
     "metadata": {},
     "source": [
      "The Julia Express"
     ]
    },
    {
     "cell_type": "heading",
     "level": 2,
     "metadata": {},
     "source": [
      "Basic literals and types"
     ]
    },
    {
     "cell_type": "heading",
     "level": 6,
     "metadata": {},
     "source": [
      "Basic scalar types (x::Type is a literal x with type Type assertion,\u7c7b\u578b\u65ad\u8a00):"
     ]
    },
    {
     "cell_type": "code",
     "collapsed": false,
     "input": [
      "1::Int64 # 32-bit integer, no overflow warnings"
     ],
     "language": "python",
     "metadata": {},
     "outputs": [
      {
       "metadata": {},
       "output_type": "pyout",
       "prompt_number": 1,
       "text": [
        "1"
       ]
      }
     ],
     "prompt_number": 1
    },
    {
     "cell_type": "code",
     "collapsed": false,
     "input": [
      "1::Int32 # \u6ce8\u610f\u572864bit\u7cfb\u7edf\u4e0a\uff0c\u9ed8\u8ba4\u6574\u6570\u4e3aInt64\uff0c\u6240\u4ee5\u9a8c\u8bc1\u5931\u8d25"
     ],
     "language": "python",
     "metadata": {},
     "outputs": [
      {
       "ename": "LoadError",
       "evalue": "type: typeassert: expected Int32, got Int64\nwhile loading In[2], in expression starting on line 1",
       "output_type": "pyerr",
       "traceback": [
        "type: typeassert: expected Int32, got Int64\nwhile loading In[2], in expression starting on line 1",
        ""
       ]
      }
     ],
     "prompt_number": 2
    },
    {
     "cell_type": "code",
     "collapsed": false,
     "input": [
      "1.0::Float64 # 64-bit float, defines NaN, -Inf, Inf"
     ],
     "language": "python",
     "metadata": {},
     "outputs": [
      {
       "metadata": {},
       "output_type": "pyout",
       "prompt_number": 3,
       "text": [
        "1.0"
       ]
      }
     ],
     "prompt_number": 3
    },
    {
     "cell_type": "code",
     "collapsed": false,
     "input": [
      "true::Bool # boolean, allows \"true\" and \"false\""
     ],
     "language": "python",
     "metadata": {},
     "outputs": [
      {
       "metadata": {},
       "output_type": "pyout",
       "prompt_number": 4,
       "text": [
        "true"
       ]
      }
     ],
     "prompt_number": 4
    },
    {
     "cell_type": "code",
     "collapsed": false,
     "input": [
      "'c'::Char # character, allows Unicode"
     ],
     "language": "python",
     "metadata": {},
     "outputs": [
      {
       "metadata": {},
       "output_type": "pyout",
       "prompt_number": 5,
       "text": [
        "'c'"
       ]
      }
     ],
     "prompt_number": 5
    },
    {
     "cell_type": "code",
     "collapsed": false,
     "input": [
      "\"s\"::String # strings, allows Unicode, see also Strings"
     ],
     "language": "python",
     "metadata": {},
     "outputs": [
      {
       "metadata": {},
       "output_type": "pyout",
       "prompt_number": 6,
       "text": [
        "\"s\""
       ]
      }
     ],
     "prompt_number": 6
    },
    {
     "cell_type": "heading",
     "level": 6,
     "metadata": {},
     "source": [
      "All basic types are immutable. Specifying type assertion is optional, it might improve performance."
     ]
    },
    {
     "cell_type": "heading",
     "level": 6,
     "metadata": {},
     "source": [
      "There is no automatic type conversion (especially important in function calls). Has to be explicit:"
     ]
    },
    {
     "cell_type": "code",
     "collapsed": false,
     "input": [
      "int64(1.3) # rounds float to integer\n",
      "int64('a') # character to integer"
     ],
     "language": "python",
     "metadata": {},
     "outputs": [
      {
       "metadata": {},
       "output_type": "pyout",
       "prompt_number": 7,
       "text": [
        "97"
       ]
      }
     ],
     "prompt_number": 7
    },
    {
     "cell_type": "code",
     "collapsed": false,
     "input": [
      "int64(\"a\") # error no conversion possible"
     ],
     "language": "python",
     "metadata": {},
     "outputs": [
      {
       "ename": "LoadError",
       "evalue": "invalid base 10 digit 'a' in \"a\"\nwhile loading In[8], in expression starting on line 1",
       "output_type": "pyerr",
       "traceback": [
        "invalid base 10 digit 'a' in \"a\"\nwhile loading In[8], in expression starting on line 1",
        "",
        " in error at error.jl:21",
        " in takebuf_array at iobuffer.jl:216"
       ]
      }
     ],
     "prompt_number": 8
    },
    {
     "cell_type": "code",
     "collapsed": false,
     "input": [
      "int64(2.0^300) # error - loss of precision"
     ],
     "language": "python",
     "metadata": {},
     "outputs": [
      {
       "ename": "LoadError",
       "evalue": "InexactError()\nwhile loading In[9], in expression starting on line 1",
       "output_type": "pyerr",
       "traceback": [
        "InexactError()\nwhile loading In[9], in expression starting on line 1",
        "",
        " in int64 at int.jl:511"
       ]
      }
     ],
     "prompt_number": 9
    },
    {
     "cell_type": "code",
     "collapsed": false,
     "input": [
      "int32(2.1^50) # 212328658 - works, but should be an error"
     ],
     "language": "python",
     "metadata": {},
     "outputs": [
      {
       "ename": "LoadError",
       "evalue": "InexactError()\nwhile loading In[10], in expression starting on line 1",
       "output_type": "pyerr",
       "traceback": [
        "InexactError()\nwhile loading In[10], in expression starting on line 1",
        "",
        " in int32 at int.jl:511"
       ]
      }
     ],
     "prompt_number": 10
    },
    {
     "cell_type": "code",
     "collapsed": false,
     "input": [
      "float64(1) # integer to float\n",
      "bool(-1) # converts to boolean true\n",
      "bool(0) # converts to boolean false\n",
      "char(89.7) # cast float to integer to char\n",
      "string(true) # cast bool to string (works with other types)"
     ],
     "language": "python",
     "metadata": {},
     "outputs": [
      {
       "metadata": {},
       "output_type": "pyout",
       "prompt_number": 11,
       "text": [
        "\"true\""
       ]
      }
     ],
     "prompt_number": 11
    },
    {
     "cell_type": "heading",
     "level": 6,
     "metadata": {},
     "source": [
      "General conversion can be done using convert(Type, x):"
     ]
    },
    {
     "cell_type": "code",
     "collapsed": false,
     "input": [
      "convert(Int64, 1.0) # convert float to integer"
     ],
     "language": "python",
     "metadata": {},
     "outputs": [
      {
       "metadata": {},
       "output_type": "pyout",
       "prompt_number": 12,
       "text": [
        "1"
       ]
      }
     ],
     "prompt_number": 12
    },
    {
     "cell_type": "heading",
     "level": 6,
     "metadata": {},
     "source": [
      "Automatic promotion of many arguments to common type using promote:"
     ]
    },
    {
     "cell_type": "code",
     "collapsed": false,
     "input": [
      "promote(true, 'c', 1.0) # tuple (see Tuples) of floats, true promoted to 1.0"
     ],
     "language": "python",
     "metadata": {},
     "outputs": [
      {
       "metadata": {},
       "output_type": "pyout",
       "prompt_number": 13,
       "text": [
        "(1.0,99.0,1.0)"
       ]
      }
     ],
     "prompt_number": 13
    },
    {
     "cell_type": "heading",
     "level": 6,
     "metadata": {},
     "source": [
      "Many operations (arithmetic, assignment) are de\u001c",
      "ned in a way that performs automatic type promotion."
     ]
    },
    {
     "cell_type": "code",
     "collapsed": false,
     "input": [
      "typeof(\"abc\") # ASCIIString returned which is a String subtype\n",
      "isa(1, Float64) # false, integer is not float\n",
      "isa(1.0, Float64) # true"
     ],
     "language": "python",
     "metadata": {},
     "outputs": [
      {
       "metadata": {},
       "output_type": "pyout",
       "prompt_number": 14,
       "text": [
        "true"
       ]
      }
     ],
     "prompt_number": 14
    },
    {
     "cell_type": "heading",
     "level": 1,
     "metadata": {},
     "source": [
      "Complex literals and types"
     ]
    },
    {
     "cell_type": "heading",
     "level": 6,
     "metadata": {},
     "source": [
      "Type beasts:"
     ]
    },
    {
     "cell_type": "code",
     "collapsed": false,
     "input": [
      "Any # all objects are of this type\n",
      "None # subtype of all types, no object can have this type\uff08\u6700\u4f4e\u7684\u7c7b\u578b\uff0c\u7c7b\u578b\u7cfb\u7edf\u7684\u5355\u4f4d\u5143\uff09\n",
      "Nothing # type indicating nothing, subtype of Any\uff08nothing\u793a\u4f8b\u7684\u7c7b\u578b\uff09\n",
      "nothing # only instance of Nothing\uff08nothing\u5b9e\u4f8b\uff09"
     ],
     "language": "python",
     "metadata": {},
     "outputs": [],
     "prompt_number": 15
    },
    {
     "cell_type": "heading",
     "level": 2,
     "metadata": {},
     "source": [
      "Tuples"
     ]
    },
    {
     "cell_type": "heading",
     "level": 6,
     "metadata": {},
     "source": [
      "Tuples are immutable sequences indexed from 1:"
     ]
    },
    {
     "cell_type": "code",
     "collapsed": false,
     "input": [
      "() # empty tuple\n",
      "(1,) # one element tuple\n",
      "(\"a\", 1) # two element tuple\n",
      "('a', false)::(Char, Bool) # tuple type assertion\n",
      "x = (1, 2, 3)\n",
      "x[1] # 1 (element)\n",
      "x[1:2] # (1, 2) (tuple)"
     ],
     "language": "python",
     "metadata": {},
     "outputs": [
      {
       "metadata": {},
       "output_type": "pyout",
       "prompt_number": 16,
       "text": [
        "(1,2)"
       ]
      }
     ],
     "prompt_number": 16
    },
    {
     "cell_type": "code",
     "collapsed": false,
     "input": [
      "x[4] # bounds error"
     ],
     "language": "python",
     "metadata": {},
     "outputs": [
      {
       "ename": "LoadError",
       "evalue": "BoundsError()\nwhile loading In[17], in expression starting on line 1",
       "output_type": "pyerr",
       "traceback": [
        "BoundsError()\nwhile loading In[17], in expression starting on line 1",
        "",
        " in getindex at tuple.jl:6"
       ]
      }
     ],
     "prompt_number": 17
    },
    {
     "cell_type": "code",
     "collapsed": false,
     "input": [
      "x[1] = 1 # error - tuple is not mutable"
     ],
     "language": "python",
     "metadata": {},
     "outputs": [
      {
       "ename": "LoadError",
       "evalue": "`setindex!` has no method matching setindex!(::(Int64,Int64,Int64), ::Int64, ::Int64)\nwhile loading In[18], in expression starting on line 1",
       "output_type": "pyerr",
       "traceback": [
        "`setindex!` has no method matching setindex!(::(Int64,Int64,Int64), ::Int64, ::Int64)\nwhile loading In[18], in expression starting on line 1",
        ""
       ]
      }
     ],
     "prompt_number": 18
    },
    {
     "cell_type": "code",
     "collapsed": false,
     "input": [
      "a, b = x # tuple unpacking a=1, b=2"
     ],
     "language": "python",
     "metadata": {},
     "outputs": [
      {
       "metadata": {},
       "output_type": "pyout",
       "prompt_number": 19,
       "text": [
        "(1,2,3)"
       ]
      }
     ],
     "prompt_number": 19
    },
    {
     "cell_type": "heading",
     "level": 2,
     "metadata": {},
     "source": [
      "Arrays"
     ]
    },
    {
     "cell_type": "heading",
     "level": 6,
     "metadata": {},
     "source": [
      "Arrays are mutable and passed by reference. Array creation:"
     ]
    },
    {
     "cell_type": "code",
     "collapsed": false,
     "input": [
      "Array(Char, 2, 3, 4) # 2x3x4 array of Chars"
     ],
     "language": "python",
     "metadata": {},
     "outputs": [
      {
       "metadata": {},
       "output_type": "pyout",
       "prompt_number": 20,
       "text": [
        "2x3x4 Array{Char,3}:\n",
        "[:, :, 1] =\n",
        " '\\0'  '\\0'  '\\0'\n",
        " '\\0'  '\\0'  '\\0'\n",
        "\n",
        "[:, :, 2] =\n",
        " '\\0'  '\\0'  '\\0'\n",
        " '\\0'  '\\0'  '\\0'\n",
        "\n",
        "[:, :, 3] =\n",
        " '\\0'  '\\0'  '\\0'\n",
        " '\\0'  '\\0'  '\\0'\n",
        "\n",
        "[:, :, 4] =\n",
        " '\\0'  '\\0'  '\\0'\n",
        " '\\0'  '\\0'  '\\0'"
       ]
      }
     ],
     "prompt_number": 20
    },
    {
     "cell_type": "code",
     "collapsed": false,
     "input": [
      "Array(Int64, 0, 0) # degenerate 0x0 array of Int64"
     ],
     "language": "python",
     "metadata": {},
     "outputs": [
      {
       "metadata": {},
       "output_type": "pyout",
       "prompt_number": 21,
       "text": [
        "0x0 Array{Int64,2}"
       ]
      }
     ],
     "prompt_number": 21
    },
    {
     "cell_type": "code",
     "collapsed": false,
     "input": [
      "cell(2, 3) # 2x3 array of Any"
     ],
     "language": "python",
     "metadata": {},
     "outputs": [
      {
       "metadata": {},
       "output_type": "pyout",
       "prompt_number": 22,
       "text": [
        "2x3 Array{Any,2}:\n",
        " #undef  #undef  #undef\n",
        " #undef  #undef  #undef"
       ]
      }
     ],
     "prompt_number": 22
    },
    {
     "cell_type": "code",
     "collapsed": false,
     "input": [
      "zeros(5) # vector of Float64 zeros"
     ],
     "language": "python",
     "metadata": {},
     "outputs": [
      {
       "metadata": {},
       "output_type": "pyout",
       "prompt_number": 23,
       "text": [
        "5-element Array{Float64,1}:\n",
        " 0.0\n",
        " 0.0\n",
        " 0.0\n",
        " 0.0\n",
        " 0.0"
       ]
      }
     ],
     "prompt_number": 23
    },
    {
     "cell_type": "code",
     "collapsed": false,
     "input": [
      "ones(Int64, 2, 1) # 2x1 array of Int64 ones"
     ],
     "language": "python",
     "metadata": {},
     "outputs": [
      {
       "metadata": {},
       "output_type": "pyout",
       "prompt_number": 24,
       "text": [
        "2x1 Array{Int64,2}:\n",
        " 1\n",
        " 1"
       ]
      }
     ],
     "prompt_number": 24
    },
    {
     "cell_type": "code",
     "collapsed": false,
     "input": [
      "trues(3), falses(3) # tuple of vector of trues and of falses"
     ],
     "language": "python",
     "metadata": {},
     "outputs": [
      {
       "metadata": {},
       "output_type": "pyout",
       "prompt_number": 25,
       "text": [
        "(Bool[true,true,true],Bool[false,false,false])"
       ]
      }
     ],
     "prompt_number": 25
    },
    {
     "cell_type": "code",
     "collapsed": false,
     "input": [
      "(trues(3), falses(3))[1]"
     ],
     "language": "python",
     "metadata": {},
     "outputs": [
      {
       "metadata": {},
       "output_type": "pyout",
       "prompt_number": 26,
       "text": [
        "3-element BitArray{1}:\n",
        " true\n",
        " true\n",
        " true"
       ]
      }
     ],
     "prompt_number": 26
    },
    {
     "cell_type": "code",
     "collapsed": false,
     "input": [
      "(trues(3), falses(3))[2]"
     ],
     "language": "python",
     "metadata": {},
     "outputs": [
      {
       "metadata": {},
       "output_type": "pyout",
       "prompt_number": 27,
       "text": [
        "3-element BitArray{1}:\n",
        " false\n",
        " false\n",
        " false"
       ]
      }
     ],
     "prompt_number": 27
    },
    {
     "cell_type": "code",
     "collapsed": false,
     "input": [
      "eye(3) # 3x3 Float64 identity matrix"
     ],
     "language": "python",
     "metadata": {},
     "outputs": [
      {
       "metadata": {},
       "output_type": "pyout",
       "prompt_number": 28,
       "text": [
        "3x3 Array{Float64,2}:\n",
        " 1.0  0.0  0.0\n",
        " 0.0  1.0  0.0\n",
        " 0.0  0.0  1.0"
       ]
      }
     ],
     "prompt_number": 28
    },
    {
     "cell_type": "code",
     "collapsed": false,
     "input": [
      "linspace(1, 2, 5) # 5 element equally spaced vector"
     ],
     "language": "python",
     "metadata": {},
     "outputs": [
      {
       "metadata": {},
       "output_type": "pyout",
       "prompt_number": 29,
       "text": [
        "5-element Array{Float64,1}:\n",
        " 1.0 \n",
        " 1.25\n",
        " 1.5 \n",
        " 1.75\n",
        " 2.0 "
       ]
      }
     ],
     "prompt_number": 29
    },
    {
     "cell_type": "code",
     "collapsed": false,
     "input": [
      "1:10 # iterable from 1 to 10"
     ],
     "language": "python",
     "metadata": {},
     "outputs": [
      {
       "metadata": {},
       "output_type": "pyout",
       "prompt_number": 30,
       "text": [
        "1:10"
       ]
      }
     ],
     "prompt_number": 30
    },
    {
     "cell_type": "code",
     "collapsed": false,
     "input": [
      "1:2:10 # iterable from 1 to 9 with 2 skip"
     ],
     "language": "python",
     "metadata": {},
     "outputs": [
      {
       "metadata": {},
       "output_type": "pyout",
       "prompt_number": 31,
       "text": [
        "1:2:9"
       ]
      }
     ],
     "prompt_number": 31
    },
    {
     "cell_type": "code",
     "collapsed": false,
     "input": [
      "reshape(1:12, 3, 4) # 3x4 array filled with 1:12 values"
     ],
     "language": "python",
     "metadata": {},
     "outputs": [
      {
       "metadata": {},
       "output_type": "pyout",
       "prompt_number": 32,
       "text": [
        "3x4 Array{Int64,2}:\n",
        " 1  4  7  10\n",
        " 2  5  8  11\n",
        " 3  6  9  12"
       ]
      }
     ],
     "prompt_number": 32
    },
    {
     "cell_type": "code",
     "collapsed": false,
     "input": [
      "fill(\"a\", 2, 2) # 2x2 array filled with \"a\""
     ],
     "language": "python",
     "metadata": {},
     "outputs": [
      {
       "metadata": {},
       "output_type": "pyout",
       "prompt_number": 33,
       "text": [
        "2x2 Array{ASCIIString,2}:\n",
        " \"a\"  \"a\"\n",
        " \"a\"  \"a\""
       ]
      }
     ],
     "prompt_number": 33
    },
    {
     "cell_type": "code",
     "collapsed": false,
     "input": [
      "repmat(eye(2), 3, 2) # 2x2 identity matrix repeated 3x2 times"
     ],
     "language": "python",
     "metadata": {},
     "outputs": [
      {
       "metadata": {},
       "output_type": "pyout",
       "prompt_number": 34,
       "text": [
        "6x4 Array{Float64,2}:\n",
        " 1.0  0.0  1.0  0.0\n",
        " 0.0  1.0  0.0  1.0\n",
        " 1.0  0.0  1.0  0.0\n",
        " 0.0  1.0  0.0  1.0\n",
        " 1.0  0.0  1.0  0.0\n",
        " 0.0  1.0  0.0  1.0"
       ]
      }
     ],
     "prompt_number": 34
    },
    {
     "cell_type": "code",
     "collapsed": false,
     "input": [
      "x = [1, 2] # two element vector"
     ],
     "language": "python",
     "metadata": {},
     "outputs": [
      {
       "metadata": {},
       "output_type": "pyout",
       "prompt_number": 35,
       "text": [
        "2-element Array{Int64,1}:\n",
        " 1\n",
        " 2"
       ]
      }
     ],
     "prompt_number": 35
    },
    {
     "cell_type": "code",
     "collapsed": false,
     "input": [
      "resize!(x, 5) # resize x in place to hold 5 values (filled with garbage)"
     ],
     "language": "python",
     "metadata": {},
     "outputs": [
      {
       "metadata": {},
       "output_type": "pyout",
       "prompt_number": 36,
       "text": [
        "5-element Array{Int64,1}:\n",
        "        1\n",
        "        2\n",
        " 53345520\n",
        "        0\n",
        "        0"
       ]
      }
     ],
     "prompt_number": 36
    },
    {
     "cell_type": "code",
     "collapsed": false,
     "input": [
      "[1:10] # convert iterator to a vector"
     ],
     "language": "python",
     "metadata": {},
     "outputs": [
      {
       "metadata": {},
       "output_type": "pyout",
       "prompt_number": 37,
       "text": [
        "10-element Array{Int64,1}:\n",
        "  1\n",
        "  2\n",
        "  3\n",
        "  4\n",
        "  5\n",
        "  6\n",
        "  7\n",
        "  8\n",
        "  9\n",
        " 10"
       ]
      }
     ],
     "prompt_number": 37
    },
    {
     "cell_type": "code",
     "collapsed": false,
     "input": [
      "[1] # vector with one element (not a scalar)"
     ],
     "language": "python",
     "metadata": {},
     "outputs": [
      {
       "metadata": {},
       "output_type": "pyout",
       "prompt_number": 38,
       "text": [
        "1-element Array{Int64,1}:\n",
        " 1"
       ]
      }
     ],
     "prompt_number": 38
    },
    {
     "cell_type": "code",
     "collapsed": false,
     "input": [
      "[x * y for x in 1:2, y in 1:3] # comprehension generating 2x3 array, x control row, y control column, may understand [[1,2]*1 [1,2]*2 [1,2]*3]"
     ],
     "language": "python",
     "metadata": {},
     "outputs": [
      {
       "metadata": {},
       "output_type": "pyout",
       "prompt_number": 39,
       "text": [
        "2x3 Array{Int64,2}:\n",
        " 1  2  3\n",
        " 2  4  6"
       ]
      }
     ],
     "prompt_number": 39
    },
    {
     "cell_type": "code",
     "collapsed": false,
     "input": [
      "[[1,2]*1 [1,2]*2 [1,2]*3]"
     ],
     "language": "python",
     "metadata": {},
     "outputs": [
      {
       "metadata": {},
       "output_type": "pyout",
       "prompt_number": 40,
       "text": [
        "2x3 Array{Int64,2}:\n",
        " 1  2  3\n",
        " 2  4  6"
       ]
      }
     ],
     "prompt_number": 40
    },
    {
     "cell_type": "code",
     "collapsed": false,
     "input": [
      "Float64[x^2 for x in 1:4] # casting comprehension result to Float64"
     ],
     "language": "python",
     "metadata": {},
     "outputs": [
      {
       "metadata": {},
       "output_type": "pyout",
       "prompt_number": 41,
       "text": [
        "4-element Array{Float64,1}:\n",
        "  1.0\n",
        "  4.0\n",
        "  9.0\n",
        " 16.0"
       ]
      }
     ],
     "prompt_number": 41
    },
    {
     "cell_type": "code",
     "collapsed": false,
     "input": [
      "{i/2 for i = 1:3} # comprehension generating array of type Any"
     ],
     "language": "python",
     "metadata": {},
     "outputs": [
      {
       "metadata": {},
       "output_type": "pyout",
       "prompt_number": 42,
       "text": [
        "3-element Array{Any,1}:\n",
        " 0.5\n",
        " 1.0\n",
        " 1.5"
       ]
      }
     ],
     "prompt_number": 42
    },
    {
     "cell_type": "code",
     "collapsed": false,
     "input": [
      "[1 2] # 1x2 matrix (hcat function)"
     ],
     "language": "python",
     "metadata": {},
     "outputs": [
      {
       "metadata": {},
       "output_type": "pyout",
       "prompt_number": 43,
       "text": [
        "1x2 Array{Int64,2}:\n",
        " 1  2"
       ]
      }
     ],
     "prompt_number": 43
    },
    {
     "cell_type": "code",
     "collapsed": false,
     "input": [
      "[1 2]' # 2x1 matrix (after transposing)"
     ],
     "language": "python",
     "metadata": {},
     "outputs": [
      {
       "metadata": {},
       "output_type": "pyout",
       "prompt_number": 44,
       "text": [
        "2x1 Array{Int64,2}:\n",
        " 1\n",
        " 2"
       ]
      }
     ],
     "prompt_number": 44
    },
    {
     "cell_type": "code",
     "collapsed": false,
     "input": [
      "[1, 2] # vector (vcat function)"
     ],
     "language": "python",
     "metadata": {},
     "outputs": [
      {
       "metadata": {},
       "output_type": "pyout",
       "prompt_number": 45,
       "text": [
        "2-element Array{Int64,1}:\n",
        " 1\n",
        " 2"
       ]
      }
     ],
     "prompt_number": 45
    },
    {
     "cell_type": "code",
     "collapsed": false,
     "input": [
      "[1; 2] # vector (hvcat function)"
     ],
     "language": "python",
     "metadata": {},
     "outputs": [
      {
       "metadata": {},
       "output_type": "pyout",
       "prompt_number": 46,
       "text": [
        "2-element Array{Int64,1}:\n",
        " 1\n",
        " 2"
       ]
      }
     ],
     "prompt_number": 46
    },
    {
     "cell_type": "code",
     "collapsed": false,
     "input": [
      "[1 2 3; 1 2 3] # 2x3 matrix (hvcat function)"
     ],
     "language": "python",
     "metadata": {},
     "outputs": [
      {
       "metadata": {},
       "output_type": "pyout",
       "prompt_number": 47,
       "text": [
        "2x3 Array{Int64,2}:\n",
        " 1  2  3\n",
        " 1  2  3"
       ]
      }
     ],
     "prompt_number": 47
    },
    {
     "cell_type": "code",
     "collapsed": false,
     "input": [
      "[1; 2] == [1 2]' # false, different array dimensions"
     ],
     "language": "python",
     "metadata": {},
     "outputs": [
      {
       "metadata": {},
       "output_type": "pyout",
       "prompt_number": 48,
       "text": [
        "false"
       ]
      }
     ],
     "prompt_number": 48
    },
    {
     "cell_type": "code",
     "collapsed": false,
     "input": [
      "[(1, 2)] # 1-element vector"
     ],
     "language": "python",
     "metadata": {},
     "outputs": [
      {
       "metadata": {},
       "output_type": "pyout",
       "prompt_number": 49,
       "text": [
        "1-element Array{(Int64,Int64),1}:\n",
        " (1,2)"
       ]
      }
     ],
     "prompt_number": 49
    },
    {
     "cell_type": "code",
     "collapsed": false,
     "input": [
      "collect((1, 2)) # 2-element vector by tuple unpacking"
     ],
     "language": "python",
     "metadata": {},
     "outputs": [
      {
       "metadata": {},
       "output_type": "pyout",
       "prompt_number": 50,
       "text": [
        "2-element Array{Int64,1}:\n",
        " 1\n",
        " 2"
       ]
      }
     ],
     "prompt_number": 50
    },
    {
     "cell_type": "code",
     "collapsed": false,
     "input": [
      "[[1 2] 3] # append to a row vector (hcat)"
     ],
     "language": "python",
     "metadata": {},
     "outputs": [
      {
       "metadata": {},
       "output_type": "pyout",
       "prompt_number": 51,
       "text": [
        "1x3 Array{Int64,2}:\n",
        " 1  2  3"
       ]
      }
     ],
     "prompt_number": 51
    },
    {
     "cell_type": "code",
     "collapsed": false,
     "input": [
      "[[1, 2], 3] # append to a column vector (vcat)"
     ],
     "language": "python",
     "metadata": {},
     "outputs": [
      {
       "metadata": {},
       "output_type": "pyout",
       "prompt_number": 52,
       "text": [
        "3-element Array{Int64,1}:\n",
        " 1\n",
        " 2\n",
        " 3"
       ]
      }
     ],
     "prompt_number": 52
    },
    {
     "cell_type": "heading",
     "level": 6,
     "metadata": {},
     "source": [
      "Vectors (1D arrays) are treated as column vectors.\n",
      "Commonly needed array utility functions:"
     ]
    },
    {
     "cell_type": "code",
     "collapsed": false,
     "input": [
      "a = [x * y for x in 1:2, y in 1, z in 1:3] # 2x1x3 array of Int64"
     ],
     "language": "python",
     "metadata": {},
     "outputs": [
      {
       "metadata": {},
       "output_type": "pyout",
       "prompt_number": 53,
       "text": [
        "2x1x3 Array{Int64,3}:\n",
        "[:, :, 1] =\n",
        " 1\n",
        " 2\n",
        "\n",
        "[:, :, 2] =\n",
        " 1\n",
        " 2\n",
        "\n",
        "[:, :, 3] =\n",
        " 1\n",
        " 2"
       ]
      }
     ],
     "prompt_number": 53
    },
    {
     "cell_type": "code",
     "collapsed": false,
     "input": [
      "ndims(a) # number of dimensions in a (3)"
     ],
     "language": "python",
     "metadata": {},
     "outputs": [
      {
       "metadata": {},
       "output_type": "pyout",
       "prompt_number": 54,
       "text": [
        "3"
       ]
      }
     ],
     "prompt_number": 54
    },
    {
     "cell_type": "code",
     "collapsed": false,
     "input": [
      "eltype(a) # type of elements in a (Int32)"
     ],
     "language": "python",
     "metadata": {},
     "outputs": [
      {
       "metadata": {},
       "output_type": "pyout",
       "prompt_number": 55,
       "text": [
        "Int64"
       ]
      }
     ],
     "prompt_number": 55
    },
    {
     "cell_type": "code",
     "collapsed": false,
     "input": [
      "length(a) # number of elements in a (6)"
     ],
     "language": "python",
     "metadata": {},
     "outputs": [
      {
       "metadata": {},
       "output_type": "pyout",
       "prompt_number": 56,
       "text": [
        "6"
       ]
      }
     ],
     "prompt_number": 56
    },
    {
     "cell_type": "code",
     "collapsed": false,
     "input": [
      "size(a) # tuple containing dimension sizes of a"
     ],
     "language": "python",
     "metadata": {},
     "outputs": [
      {
       "metadata": {},
       "output_type": "pyout",
       "prompt_number": 57,
       "text": [
        "(2,1,3)"
       ]
      }
     ],
     "prompt_number": 57
    },
    {
     "cell_type": "code",
     "collapsed": false,
     "input": [
      "vec(a) # cast array to vetor (single dimension)"
     ],
     "language": "python",
     "metadata": {},
     "outputs": [
      {
       "metadata": {},
       "output_type": "pyout",
       "prompt_number": 58,
       "text": [
        "6-element Array{Int64,1}:\n",
        " 1\n",
        " 2\n",
        " 1\n",
        " 2\n",
        " 1\n",
        " 2"
       ]
      }
     ],
     "prompt_number": 58
    },
    {
     "cell_type": "code",
     "collapsed": false,
     "input": [
      "squeeze(a, 2) # remove 2nd dimension as it has size 1"
     ],
     "language": "python",
     "metadata": {},
     "outputs": [
      {
       "metadata": {},
       "output_type": "pyout",
       "prompt_number": 59,
       "text": [
        "2x3 Array{Int64,2}:\n",
        " 1  1  1\n",
        " 2  2  2"
       ]
      }
     ],
     "prompt_number": 59
    },
    {
     "cell_type": "code",
     "collapsed": false,
     "input": [
      "sum(a, 3) # calculate sums for 3rd dimensions, similarly: mean, std, prod, minimum, maximum, any, all"
     ],
     "language": "python",
     "metadata": {},
     "outputs": [
      {
       "metadata": {},
       "output_type": "pyout",
       "prompt_number": 60,
       "text": [
        "2x1x1 Array{Int64,3}:\n",
        "[:, :, 1] =\n",
        " 3\n",
        " 6"
       ]
      }
     ],
     "prompt_number": 60
    },
    {
     "cell_type": "code",
     "collapsed": false,
     "input": [
      "count(x -> x > 0, a) # count number of times predicate is true, similar: all, any"
     ],
     "language": "python",
     "metadata": {},
     "outputs": [
      {
       "metadata": {},
       "output_type": "pyout",
       "prompt_number": 61,
       "text": [
        "6"
       ]
      }
     ],
     "prompt_number": 61
    },
    {
     "cell_type": "heading",
     "level": 6,
     "metadata": {},
     "source": [
      "Array access:"
     ]
    },
    {
     "cell_type": "code",
     "collapsed": false,
     "input": [
      "a = linspace(0, 1) # Float64 vector of length 100"
     ],
     "language": "python",
     "metadata": {},
     "outputs": [
      {
       "metadata": {},
       "output_type": "pyout",
       "prompt_number": 62,
       "text": [
        "100-element Array{Float64,1}:\n",
        " 0.0      \n",
        " 0.010101 \n",
        " 0.020202 \n",
        " 0.030303 \n",
        " 0.040404 \n",
        " 0.0505051\n",
        " 0.0606061\n",
        " 0.0707071\n",
        " 0.0808081\n",
        " 0.0909091\n",
        " 0.10101  \n",
        " 0.111111 \n",
        " 0.121212 \n",
        " \u22ee        \n",
        " 0.888889 \n",
        " 0.89899  \n",
        " 0.909091 \n",
        " 0.919192 \n",
        " 0.929293 \n",
        " 0.939394 \n",
        " 0.949495 \n",
        " 0.959596 \n",
        " 0.969697 \n",
        " 0.979798 \n",
        " 0.989899 \n",
        " 1.0      "
       ]
      }
     ],
     "prompt_number": 62
    },
    {
     "cell_type": "code",
     "collapsed": false,
     "input": [
      "a[1] # get scalar 0.0"
     ],
     "language": "python",
     "metadata": {},
     "outputs": [
      {
       "metadata": {},
       "output_type": "pyout",
       "prompt_number": 63,
       "text": [
        "0.0"
       ]
      }
     ],
     "prompt_number": 63
    },
    {
     "cell_type": "code",
     "collapsed": false,
     "input": [
      "a[end] # get scalar 1.0 (last position)"
     ],
     "language": "python",
     "metadata": {},
     "outputs": [
      {
       "metadata": {},
       "output_type": "pyout",
       "prompt_number": 64,
       "text": [
        "1.0"
       ]
      }
     ],
     "prompt_number": 64
    },
    {
     "cell_type": "code",
     "collapsed": false,
     "input": [
      "a[1:2:end] # every second element from range"
     ],
     "language": "python",
     "metadata": {},
     "outputs": [
      {
       "metadata": {},
       "output_type": "pyout",
       "prompt_number": 65,
       "text": [
        "50-element Array{Float64,1}:\n",
        " 0.0      \n",
        " 0.020202 \n",
        " 0.040404 \n",
        " 0.0606061\n",
        " 0.0808081\n",
        " 0.10101  \n",
        " 0.121212 \n",
        " 0.141414 \n",
        " 0.161616 \n",
        " 0.181818 \n",
        " 0.20202  \n",
        " 0.222222 \n",
        " 0.242424 \n",
        " \u22ee        \n",
        " 0.767677 \n",
        " 0.787879 \n",
        " 0.808081 \n",
        " 0.828283 \n",
        " 0.848485 \n",
        " 0.868687 \n",
        " 0.888889 \n",
        " 0.909091 \n",
        " 0.929293 \n",
        " 0.949495 \n",
        " 0.969697 \n",
        " 0.989899 "
       ]
      }
     ],
     "prompt_number": 65
    },
    {
     "cell_type": "code",
     "collapsed": false,
     "input": [
      "sub(a, 1:2:100) # select virtual submatrix (the same memory)"
     ],
     "language": "python",
     "metadata": {},
     "outputs": [
      {
       "metadata": {},
       "output_type": "pyout",
       "prompt_number": 66,
       "text": [
        "50-element SubArray{Float64,1,Array{Float64,1},(StepRange{Int64,Int64},)}:\n",
        " 0.0      \n",
        " 0.020202 \n",
        " 0.040404 \n",
        " 0.0606061\n",
        " 0.0808081\n",
        " 0.10101  \n",
        " 0.121212 \n",
        " 0.141414 \n",
        " 0.161616 \n",
        " 0.181818 \n",
        " 0.20202  \n",
        " 0.222222 \n",
        " 0.242424 \n",
        " \u22ee        \n",
        " 0.767677 \n",
        " 0.787879 \n",
        " 0.808081 \n",
        " 0.828283 \n",
        " 0.848485 \n",
        " 0.868687 \n",
        " 0.888889 \n",
        " 0.909091 \n",
        " 0.929293 \n",
        " 0.949495 \n",
        " 0.969697 \n",
        " 0.989899 "
       ]
      }
     ],
     "prompt_number": 66
    },
    {
     "cell_type": "code",
     "collapsed": false,
     "input": [
      "a[repmat([true, false], 50)] # select every second element"
     ],
     "language": "python",
     "metadata": {},
     "outputs": [
      {
       "metadata": {},
       "output_type": "pyout",
       "prompt_number": 67,
       "text": [
        "50-element Array{Float64,1}:\n",
        " 0.0      \n",
        " 0.020202 \n",
        " 0.040404 \n",
        " 0.0606061\n",
        " 0.0808081\n",
        " 0.10101  \n",
        " 0.121212 \n",
        " 0.141414 \n",
        " 0.161616 \n",
        " 0.181818 \n",
        " 0.20202  \n",
        " 0.222222 \n",
        " 0.242424 \n",
        " \u22ee        \n",
        " 0.767677 \n",
        " 0.787879 \n",
        " 0.808081 \n",
        " 0.828283 \n",
        " 0.848485 \n",
        " 0.868687 \n",
        " 0.888889 \n",
        " 0.909091 \n",
        " 0.929293 \n",
        " 0.949495 \n",
        " 0.969697 \n",
        " 0.989899 "
       ]
      }
     ],
     "prompt_number": 67
    },
    {
     "cell_type": "code",
     "collapsed": false,
     "input": [
      "repmat([true, false], 50)"
     ],
     "language": "python",
     "metadata": {},
     "outputs": [
      {
       "metadata": {},
       "output_type": "pyout",
       "prompt_number": 68,
       "text": [
        "100-element Array{Bool,1}:\n",
        "  true\n",
        " false\n",
        "  true\n",
        " false\n",
        "  true\n",
        " false\n",
        "  true\n",
        " false\n",
        "  true\n",
        " false\n",
        "  true\n",
        " false\n",
        "  true\n",
        "     \u22ee\n",
        "  true\n",
        " false\n",
        "  true\n",
        " false\n",
        "  true\n",
        " false\n",
        "  true\n",
        " false\n",
        "  true\n",
        " false\n",
        "  true\n",
        " false"
       ]
      }
     ],
     "prompt_number": 68
    },
    {
     "cell_type": "code",
     "collapsed": false,
     "input": [
      "a[[1, 3, 6]] # 1st, 3rd and 6th element of a"
     ],
     "language": "python",
     "metadata": {},
     "outputs": [
      {
       "metadata": {},
       "output_type": "pyout",
       "prompt_number": 69,
       "text": [
        "3-element Array{Float64,1}:\n",
        " 0.0      \n",
        " 0.020202 \n",
        " 0.0505051"
       ]
      }
     ],
     "prompt_number": 69
    },
    {
     "cell_type": "heading",
     "level": 6,
     "metadata": {},
     "source": [
      "Notice the treatment of trailing singleton dimensions:"
     ]
    },
    {
     "cell_type": "code",
     "collapsed": false,
     "input": [
      "a = reshape(1:12, 3, 4)"
     ],
     "language": "python",
     "metadata": {},
     "outputs": [
      {
       "metadata": {},
       "output_type": "pyout",
       "prompt_number": 70,
       "text": [
        "3x4 Array{Int64,2}:\n",
        " 1  4  7  10\n",
        " 2  5  8  11\n",
        " 3  6  9  12"
       ]
      }
     ],
     "prompt_number": 70
    },
    {
     "cell_type": "code",
     "collapsed": false,
     "input": [
      "a[:, 1:2] # 3x2 matrix"
     ],
     "language": "python",
     "metadata": {},
     "outputs": [
      {
       "metadata": {},
       "output_type": "pyout",
       "prompt_number": 71,
       "text": [
        "3x2 Array{Int64,2}:\n",
        " 1  4\n",
        " 2  5\n",
        " 3  6"
       ]
      }
     ],
     "prompt_number": 71
    },
    {
     "cell_type": "code",
     "collapsed": false,
     "input": [
      "a[:, 1] # 3-element vector"
     ],
     "language": "python",
     "metadata": {},
     "outputs": [
      {
       "metadata": {},
       "output_type": "pyout",
       "prompt_number": 72,
       "text": [
        "3-element Array{Int64,1}:\n",
        " 1\n",
        " 2\n",
        " 3"
       ]
      }
     ],
     "prompt_number": 72
    },
    {
     "cell_type": "code",
     "collapsed": false,
     "input": [
      "a[1, :] # 1x4 matrix"
     ],
     "language": "python",
     "metadata": {},
     "outputs": [
      {
       "metadata": {},
       "output_type": "pyout",
       "prompt_number": 73,
       "text": [
        "1x4 Array{Int64,2}:\n",
        " 1  4  7  10"
       ]
      }
     ],
     "prompt_number": 73
    },
    {
     "cell_type": "heading",
     "level": 6,
     "metadata": {},
     "source": [
      "Array assignment:"
     ]
    },
    {
     "cell_type": "code",
     "collapsed": false,
     "input": [
      "x = reshape(1:8, 2, 4)"
     ],
     "language": "python",
     "metadata": {},
     "outputs": [
      {
       "metadata": {},
       "output_type": "pyout",
       "prompt_number": 74,
       "text": [
        "2x4 Array{Int64,2}:\n",
        " 1  3  5  7\n",
        " 2  4  6  8"
       ]
      }
     ],
     "prompt_number": 74
    },
    {
     "cell_type": "code",
     "collapsed": false,
     "input": [
      "x[:,2:3] = [1 2] # error; size mismatch"
     ],
     "language": "python",
     "metadata": {},
     "outputs": [
      {
       "ename": "LoadError",
       "evalue": "DimensionMismatch(\"tried to assign 1x2 array to 2x2 destination\")\nwhile loading In[75], in expression starting on line 1",
       "output_type": "pyerr",
       "traceback": [
        "DimensionMismatch(\"tried to assign 1x2 array to 2x2 destination\")\nwhile loading In[75], in expression starting on line 1",
        "",
        " in throw_setindex_mismatch at operators.jl:233",
        " in setindex_shape_check at operators.jl:290"
       ]
      }
     ],
     "prompt_number": 75
    },
    {
     "cell_type": "code",
     "collapsed": false,
     "input": [
      "x[:,2:3] = repmat([1 2], 2) # OK\uff08\u6ce8\u610f\u8fd9\u91cc\u662f\u6309\u884c\u8986\u76d6\uff09"
     ],
     "language": "python",
     "metadata": {},
     "outputs": [
      {
       "metadata": {},
       "output_type": "pyout",
       "prompt_number": 76,
       "text": [
        "2x2 Array{Int64,2}:\n",
        " 1  2\n",
        " 1  2"
       ]
      }
     ],
     "prompt_number": 76
    },
    {
     "cell_type": "code",
     "collapsed": false,
     "input": [
      "x[:,2:3] = 3 # OK"
     ],
     "language": "python",
     "metadata": {},
     "outputs": [
      {
       "metadata": {},
       "output_type": "pyout",
       "prompt_number": 77,
       "text": [
        "3"
       ]
      }
     ],
     "prompt_number": 77
    },
    {
     "cell_type": "code",
     "collapsed": false,
     "input": [
      "x"
     ],
     "language": "python",
     "metadata": {},
     "outputs": [
      {
       "metadata": {},
       "output_type": "pyout",
       "prompt_number": 78,
       "text": [
        "2x4 Array{Int64,2}:\n",
        " 1  3  3  7\n",
        " 2  3  3  8"
       ]
      }
     ],
     "prompt_number": 78
    },
    {
     "cell_type": "heading",
     "level": 6,
     "metadata": {},
     "source": [
      "Arrays are assigned and passed by reference. Therefore copying is provided:"
     ]
    },
    {
     "cell_type": "code",
     "collapsed": false,
     "input": [
      "x = cell(2)"
     ],
     "language": "python",
     "metadata": {},
     "outputs": [
      {
       "metadata": {},
       "output_type": "pyout",
       "prompt_number": 79,
       "text": [
        "2-element Array{Any,1}:\n",
        " #undef\n",
        " #undef"
       ]
      }
     ],
     "prompt_number": 79
    },
    {
     "cell_type": "code",
     "collapsed": false,
     "input": [
      "x[1] = ones(2)"
     ],
     "language": "python",
     "metadata": {},
     "outputs": [
      {
       "metadata": {},
       "output_type": "pyout",
       "prompt_number": 80,
       "text": [
        "2-element Array{Float64,1}:\n",
        " 1.0\n",
        " 1.0"
       ]
      }
     ],
     "prompt_number": 80
    },
    {
     "cell_type": "code",
     "collapsed": false,
     "input": [
      "x[2] = trues(3)"
     ],
     "language": "python",
     "metadata": {},
     "outputs": [
      {
       "metadata": {},
       "output_type": "pyout",
       "prompt_number": 81,
       "text": [
        "3-element BitArray{1}:\n",
        " true\n",
        " true\n",
        " true"
       ]
      }
     ],
     "prompt_number": 81
    },
    {
     "cell_type": "code",
     "collapsed": false,
     "input": [
      "a = x"
     ],
     "language": "python",
     "metadata": {},
     "outputs": [
      {
       "metadata": {},
       "output_type": "pyout",
       "prompt_number": 82,
       "text": [
        "2-element Array{Any,1}:\n",
        " [1.0,1.0]           \n",
        " Bool[true,true,true]"
       ]
      }
     ],
     "prompt_number": 82
    },
    {
     "cell_type": "code",
     "collapsed": false,
     "input": [
      "b = copy(x) # shallow copy"
     ],
     "language": "python",
     "metadata": {},
     "outputs": [
      {
       "metadata": {},
       "output_type": "pyout",
       "prompt_number": 83,
       "text": [
        "2-element Array{Any,1}:\n",
        " [1.0,1.0]           \n",
        " Bool[true,true,true]"
       ]
      }
     ],
     "prompt_number": 83
    },
    {
     "cell_type": "code",
     "collapsed": false,
     "input": [
      "c = deepcopy(x) # deep copy"
     ],
     "language": "python",
     "metadata": {},
     "outputs": [
      {
       "metadata": {},
       "output_type": "pyout",
       "prompt_number": 84,
       "text": [
        "2-element Array{Any,1}:\n",
        " [1.0,1.0]           \n",
        " Bool[true,true,true]"
       ]
      }
     ],
     "prompt_number": 84
    },
    {
     "cell_type": "code",
     "collapsed": false,
     "input": [
      "x[1] = \"Bang\"\n",
      "x[2][1] = false\n",
      "a # identical as new x"
     ],
     "language": "python",
     "metadata": {},
     "outputs": [
      {
       "metadata": {},
       "output_type": "pyout",
       "prompt_number": 85,
       "text": [
        "2-element Array{Any,1}:\n",
        " \"Bang\"               \n",
        " Bool[false,true,true]"
       ]
      }
     ],
     "prompt_number": 85
    },
    {
     "cell_type": "code",
     "collapsed": false,
     "input": [
      "b # only x[2][1] changed from original x (shallow copy)\uff08x[1] = \"Bang\"\u5bfc\u81f4x[1]\u4e4b\u524d\u6307\u5411\u7684\u5bf9\u8c61\u88ab\u89e3\u5f15\u7528\uff0c\u5e76\u6307\u5411\u4e00\u4e2a\u65b0\u5bf9\u8c61\uff0c\u4f46b[1]\u8fd8\u5f15\u7528\u539fx[1]\u6240\u6307\u5bf9\u8c61\uff09"
     ],
     "language": "python",
     "metadata": {},
     "outputs": [
      {
       "metadata": {},
       "output_type": "pyout",
       "prompt_number": 86,
       "text": [
        "2-element Array{Any,1}:\n",
        " [1.0,1.0]            \n",
        " Bool[false,true,true]"
       ]
      }
     ],
     "prompt_number": 86
    },
    {
     "cell_type": "code",
     "collapsed": false,
     "input": [
      "c # identical to original x (deep copy)"
     ],
     "language": "python",
     "metadata": {},
     "outputs": [
      {
       "metadata": {},
       "output_type": "pyout",
       "prompt_number": 87,
       "text": [
        "2-element Array{Any,1}:\n",
        " [1.0,1.0]           \n",
        " Bool[true,true,true]"
       ]
      }
     ],
     "prompt_number": 87
    },
    {
     "cell_type": "heading",
     "level": 6,
     "metadata": {},
     "source": [
      "Array types:"
     ]
    },
    {
     "cell_type": "code",
     "collapsed": false,
     "input": [
      "cell(2)::Array{Any, 1} # vector of Any"
     ],
     "language": "python",
     "metadata": {},
     "outputs": [
      {
       "metadata": {},
       "output_type": "pyout",
       "prompt_number": 88,
       "text": [
        "2-element Array{Any,1}:\n",
        " #undef\n",
        " #undef"
       ]
      }
     ],
     "prompt_number": 88
    },
    {
     "cell_type": "code",
     "collapsed": false,
     "input": [
      "[1 2]::Array{Int64, 2} # 1x2 matrix of Int64"
     ],
     "language": "python",
     "metadata": {},
     "outputs": [
      {
       "metadata": {},
       "output_type": "pyout",
       "prompt_number": 89,
       "text": [
        "1x2 Array{Int64,2}:\n",
        " 1  2"
       ]
      }
     ],
     "prompt_number": 89
    },
    {
     "cell_type": "code",
     "collapsed": false,
     "input": [
      "[true; false]::Vector{Bool} # vector of Bool"
     ],
     "language": "python",
     "metadata": {},
     "outputs": [
      {
       "metadata": {},
       "output_type": "pyout",
       "prompt_number": 90,
       "text": [
        "2-element Array{Bool,1}:\n",
        "  true\n",
        " false"
       ]
      }
     ],
     "prompt_number": 90
    },
    {
     "cell_type": "code",
     "collapsed": false,
     "input": [
      "[1 2; 3 4]::Matrix{Int64} # 2x2 matrix of Int32"
     ],
     "language": "python",
     "metadata": {},
     "outputs": [
      {
       "metadata": {},
       "output_type": "pyout",
       "prompt_number": 91,
       "text": [
        "2x2 Array{Int64,2}:\n",
        " 1  2\n",
        " 3  4"
       ]
      }
     ],
     "prompt_number": 91
    },
    {
     "cell_type": "heading",
     "level": 2,
     "metadata": {},
     "source": [
      "Composite types"
     ]
    },
    {
     "cell_type": "heading",
     "level": 6,
     "metadata": {},
     "source": [
      "Composite types are mutable and passed by reference.You can de\u001c",
      "ne and access composite types:"
     ]
    },
    {
     "cell_type": "code",
     "collapsed": false,
     "input": [
      "type Point\n",
      "x::Int64\n",
      "y::Float64\n",
      "meta\n",
      "end"
     ],
     "language": "python",
     "metadata": {},
     "outputs": [],
     "prompt_number": 92
    },
    {
     "cell_type": "code",
     "collapsed": false,
     "input": [
      "p = Point(0, 0.0, \"Origin\")"
     ],
     "language": "python",
     "metadata": {},
     "outputs": [
      {
       "metadata": {},
       "output_type": "pyout",
       "prompt_number": 93,
       "text": [
        "Point(0,0.0,\"Origin\")"
       ]
      }
     ],
     "prompt_number": 93
    },
    {
     "cell_type": "code",
     "collapsed": false,
     "input": [
      "p.x # access field"
     ],
     "language": "python",
     "metadata": {},
     "outputs": [
      {
       "metadata": {},
       "output_type": "pyout",
       "prompt_number": 94,
       "text": [
        "0"
       ]
      }
     ],
     "prompt_number": 94
    },
    {
     "cell_type": "code",
     "collapsed": false,
     "input": [
      "p.meta = 2 # change field value"
     ],
     "language": "python",
     "metadata": {},
     "outputs": [
      {
       "metadata": {},
       "output_type": "pyout",
       "prompt_number": 95,
       "text": [
        "2"
       ]
      }
     ],
     "prompt_number": 95
    },
    {
     "cell_type": "code",
     "collapsed": false,
     "input": [
      "p.x = 1.5 # error, wrong data type"
     ],
     "language": "python",
     "metadata": {},
     "outputs": [
      {
       "ename": "LoadError",
       "evalue": "InexactError()\nwhile loading In[96], in expression starting on line 1",
       "output_type": "pyerr",
       "traceback": [
        "InexactError()\nwhile loading In[96], in expression starting on line 1",
        "",
        " in convert at int.jl:299"
       ]
      }
     ],
     "prompt_number": 96
    },
    {
     "cell_type": "code",
     "collapsed": false,
     "input": [
      "p.z = 1 # error - no such field"
     ],
     "language": "python",
     "metadata": {},
     "outputs": [
      {
       "ename": "LoadError",
       "evalue": "type Point has no field z\nwhile loading In[97], in expression starting on line 1",
       "output_type": "pyerr",
       "traceback": [
        "type Point has no field z\nwhile loading In[97], in expression starting on line 1",
        ""
       ]
      }
     ],
     "prompt_number": 97
    },
    {
     "cell_type": "code",
     "collapsed": false,
     "input": [
      "names(p) # get names of instance fields"
     ],
     "language": "python",
     "metadata": {},
     "outputs": [
      {
       "metadata": {},
       "output_type": "pyout",
       "prompt_number": 98,
       "text": [
        "3-element Array{Symbol,1}:\n",
        " :x   \n",
        " :y   \n",
        " :meta"
       ]
      }
     ],
     "prompt_number": 98
    },
    {
     "cell_type": "code",
     "collapsed": false,
     "input": [
      "names(Point) # get names of type fields"
     ],
     "language": "python",
     "metadata": {},
     "outputs": [
      {
       "metadata": {},
       "output_type": "pyout",
       "prompt_number": 99,
       "text": [
        "3-element Array{Symbol,1}:\n",
        " :x   \n",
        " :y   \n",
        " :meta"
       ]
      }
     ],
     "prompt_number": 99
    },
    {
     "cell_type": "heading",
     "level": 6,
     "metadata": {},
     "source": [
      "TODO: You can de\u001c",
      "ne type to be immutable by replacing type by immutable. There are also union types"
     ]
    },
    {
     "cell_type": "heading",
     "level": 2,
     "metadata": {},
     "source": [
      "Dictionaries"
     ]
    },
    {
     "cell_type": "heading",
     "level": 6,
     "metadata": {},
     "source": [
      "Associative collections (key-value dictionaries):"
     ]
    },
    {
     "cell_type": "code",
     "collapsed": false,
     "input": [
      "x = Dict{Float64, Int64}() # empty dictionary mapping floats to integers"
     ],
     "language": "python",
     "metadata": {},
     "outputs": [
      {
       "metadata": {},
       "output_type": "pyout",
       "prompt_number": 100,
       "text": [
        "Dict{Float64,Int64} with 0 entries"
       ]
      }
     ],
     "prompt_number": 100
    },
    {
     "cell_type": "code",
     "collapsed": false,
     "input": [
      "x = (Int64=>Int64)[1=>1, 2=>2] # literal syntax creation, optional type information"
     ],
     "language": "python",
     "metadata": {},
     "outputs": [
      {
       "metadata": {},
       "output_type": "pyout",
       "prompt_number": 101,
       "text": [
        "Dict{Int64,Int64} with 2 entries:\n",
        "  2 => 2\n",
        "  1 => 1"
       ]
      }
     ],
     "prompt_number": 101
    },
    {
     "cell_type": "code",
     "collapsed": false,
     "input": [
      "x[1]"
     ],
     "language": "python",
     "metadata": {},
     "outputs": [
      {
       "metadata": {},
       "output_type": "pyout",
       "prompt_number": 102,
       "text": [
        "1"
       ]
      }
     ],
     "prompt_number": 102
    },
    {
     "cell_type": "code",
     "collapsed": false,
     "input": [
      "y = {\"a\"=>1, (2,3)=>true} # dictionary with type Dict(Any, Any)"
     ],
     "language": "python",
     "metadata": {},
     "outputs": [
      {
       "metadata": {},
       "output_type": "pyout",
       "prompt_number": 103,
       "text": [
        "Dict{Any,Any} with 2 entries:\n",
        "  (2,3) => true\n",
        "  \"a\"   => 1"
       ]
      }
     ],
     "prompt_number": 103
    },
    {
     "cell_type": "code",
     "collapsed": false,
     "input": [
      "y[\"a\"] # element retrieval"
     ],
     "language": "python",
     "metadata": {},
     "outputs": [
      {
       "metadata": {},
       "output_type": "pyout",
       "prompt_number": 104,
       "text": [
        "1"
       ]
      }
     ],
     "prompt_number": 104
    },
    {
     "cell_type": "code",
     "collapsed": false,
     "input": [
      "y[\"b\"] # error"
     ],
     "language": "python",
     "metadata": {},
     "outputs": [
      {
       "ename": "LoadError",
       "evalue": "key not found: \"b\"\nwhile loading In[105], in expression starting on line 1",
       "output_type": "pyerr",
       "traceback": [
        "key not found: \"b\"\nwhile loading In[105], in expression starting on line 1",
        "",
        " in getindex at dict.jl:615"
       ]
      }
     ],
     "prompt_number": 105
    },
    {
     "cell_type": "code",
     "collapsed": false,
     "input": [
      "y[\"b\"] = 'b' # added element"
     ],
     "language": "python",
     "metadata": {},
     "outputs": [
      {
       "metadata": {},
       "output_type": "pyout",
       "prompt_number": 106,
       "text": [
        "'b'"
       ]
      }
     ],
     "prompt_number": 106
    },
    {
     "cell_type": "code",
     "collapsed": false,
     "input": [
      "haskey(y, \"b\") # check if y contains key \"b\""
     ],
     "language": "python",
     "metadata": {},
     "outputs": [
      {
       "metadata": {},
       "output_type": "pyout",
       "prompt_number": 107,
       "text": [
        "true"
       ]
      }
     ],
     "prompt_number": 107
    },
    {
     "cell_type": "code",
     "collapsed": false,
     "input": [
      "keys(y), values(y) # tuple of iterators returing keys and values in y"
     ],
     "language": "python",
     "metadata": {},
     "outputs": [
      {
       "metadata": {},
       "output_type": "pyout",
       "prompt_number": 108,
       "text": [
        "({(2,3),\"b\",\"a\"},{true,'b',1})"
       ]
      }
     ],
     "prompt_number": 108
    },
    {
     "cell_type": "code",
     "collapsed": false,
     "input": [
      "delete!(y, \"b\") # delete key from a collection, see also: pop!"
     ],
     "language": "python",
     "metadata": {},
     "outputs": [
      {
       "metadata": {},
       "output_type": "pyout",
       "prompt_number": 109,
       "text": [
        "Dict{Any,Any} with 2 entries:\n",
        "  (2,3) => true\n",
        "  \"a\"   => 1"
       ]
      }
     ],
     "prompt_number": 109
    },
    {
     "cell_type": "code",
     "collapsed": false,
     "input": [
      "get(y,\"c\",\"default\") # return y[\"c\"] or \"default\" if not haskey(y,\"c\")"
     ],
     "language": "python",
     "metadata": {},
     "outputs": [
      {
       "metadata": {},
       "output_type": "pyout",
       "prompt_number": 110,
       "text": [
        "\"default\""
       ]
      }
     ],
     "prompt_number": 110
    },
    {
     "cell_type": "heading",
     "level": 6,
     "metadata": {},
     "source": [
      "TODO: Julia also supports operations on sets and dequeues, priority queues and heaps"
     ]
    },
    {
     "cell_type": "heading",
     "level": 1,
     "metadata": {},
     "source": [
      "Strings"
     ]
    },
    {
     "cell_type": "heading",
     "level": 6,
     "metadata": {},
     "source": [
      "String operations:"
     ]
    },
    {
     "cell_type": "code",
     "collapsed": false,
     "input": [
      "\"Hi \" * \"there!\" # string concatenation"
     ],
     "language": "python",
     "metadata": {},
     "outputs": [
      {
       "metadata": {},
       "output_type": "pyout",
       "prompt_number": 111,
       "text": [
        "\"Hi there!\""
       ]
      }
     ],
     "prompt_number": 111
    },
    {
     "cell_type": "code",
     "collapsed": false,
     "input": [
      "\"Ho \" ^ 3 # repeat string"
     ],
     "language": "python",
     "metadata": {},
     "outputs": [
      {
       "metadata": {},
       "output_type": "pyout",
       "prompt_number": 112,
       "text": [
        "\"Ho Ho Ho \""
       ]
      }
     ],
     "prompt_number": 112
    },
    {
     "cell_type": "code",
     "collapsed": false,
     "input": [
      "string(\"a= \", 123.3) # create using print function"
     ],
     "language": "python",
     "metadata": {},
     "outputs": [
      {
       "metadata": {},
       "output_type": "pyout",
       "prompt_number": 113,
       "text": [
        "\"a= 123.3\""
       ]
      }
     ],
     "prompt_number": 113
    },
    {
     "cell_type": "code",
     "collapsed": false,
     "input": [
      "repr(123.3) # fetch value of show function to a string\uff08\u5c31\u662f\u8c03\u7528\u76f8\u5e94\u5bf9\u8c61\u7684toString()\u51fd\u6570\uff0c\u9488\u5bf9\u7528\u6237\u5b9a\u4e49\u5bf9\u8c61\uff0c\u7528\u6237\u53ef\u4ee5\u63d0\u4f9b\u81ea\u5b9a\u4e49\u7684toString()\u51fd\u6570\uff09"
     ],
     "language": "python",
     "metadata": {},
     "outputs": [
      {
       "metadata": {},
       "output_type": "pyout",
       "prompt_number": 114,
       "text": [
        "\"123.3\""
       ]
      }
     ],
     "prompt_number": 114
    },
    {
     "cell_type": "code",
     "collapsed": false,
     "input": [
      "contains(\"ABCD\", \"CD\") # check if first string contains second"
     ],
     "language": "python",
     "metadata": {},
     "outputs": [
      {
       "metadata": {},
       "output_type": "pyout",
       "prompt_number": 115,
       "text": [
        "true"
       ]
      }
     ],
     "prompt_number": 115
    },
    {
     "cell_type": "code",
     "collapsed": false,
     "input": [
      "\"\\\"\\n\\t\\$\" # C-like escaping in strings, new \\$ escape"
     ],
     "language": "python",
     "metadata": {},
     "outputs": [
      {
       "metadata": {},
       "output_type": "pyout",
       "prompt_number": 116,
       "text": [
        "\"\\\"\\n\\t\\$\""
       ]
      }
     ],
     "prompt_number": 116
    },
    {
     "cell_type": "code",
     "collapsed": false,
     "input": [
      "x = 123\n",
      "\"$x + 3 = $(x+3)\" # unescaped $ is used for interpolation"
     ],
     "language": "python",
     "metadata": {},
     "outputs": [
      {
       "metadata": {},
       "output_type": "pyout",
       "prompt_number": 117,
       "text": [
        "\"123 + 3 = 126\""
       ]
      }
     ],
     "prompt_number": 117
    },
    {
     "cell_type": "heading",
     "level": 6,
     "metadata": {},
     "source": [
      "PCRE regular expressions handling:"
     ]
    },
    {
     "cell_type": "code",
     "collapsed": false,
     "input": [
      "r = r\"A|B\" # create new regexp"
     ],
     "language": "python",
     "metadata": {},
     "outputs": [
      {
       "metadata": {},
       "output_type": "pyout",
       "prompt_number": 118,
       "text": [
        "r\"A|B\""
       ]
      }
     ],
     "prompt_number": 118
    },
    {
     "cell_type": "code",
     "collapsed": false,
     "input": [
      "ismatch(r, \"CD\") # false, no match found"
     ],
     "language": "python",
     "metadata": {},
     "outputs": [
      {
       "metadata": {},
       "output_type": "pyout",
       "prompt_number": 119,
       "text": [
        "false"
       ]
      }
     ],
     "prompt_number": 119
    },
    {
     "cell_type": "code",
     "collapsed": false,
     "input": [
      "m = match(r, \"ACBD\") # find first regexp match, see documentation for details"
     ],
     "language": "python",
     "metadata": {},
     "outputs": [
      {
       "metadata": {},
       "output_type": "pyout",
       "prompt_number": 120,
       "text": [
        "RegexMatch(\"A\")"
       ]
      }
     ],
     "prompt_number": 120
    },
    {
     "cell_type": "heading",
     "level": 6,
     "metadata": {},
     "source": [
      "TODO: There is a vast number of string functions"
     ]
    },
    {
     "cell_type": "heading",
     "level": 1,
     "metadata": {},
     "source": [
      "Programming constructs"
     ]
    },
    {
     "cell_type": "heading",
     "level": 6,
     "metadata": {},
     "source": [
      "Expressions can be compound using ; or begin end block:"
     ]
    },
    {
     "cell_type": "code",
     "collapsed": false,
     "input": [
      "x = (a = 1; 2 * a) # after: x = 2; a = 1\n",
      "y = begin\n",
      "b = 3\n",
      "3 * b\n",
      "end # after: y = 9; b = 3\n",
      "y,b"
     ],
     "language": "python",
     "metadata": {},
     "outputs": [
      {
       "metadata": {},
       "output_type": "pyout",
       "prompt_number": 121,
       "text": [
        "(9,3)"
       ]
      }
     ],
     "prompt_number": 121
    },
    {
     "cell_type": "heading",
     "level": 6,
     "metadata": {},
     "source": [
      "There are standard programming constructs:"
     ]
    },
    {
     "cell_type": "code",
     "collapsed": false,
     "input": [
      "if false # if clause requires Bool test\n",
      "z = 1\n",
      "elseif 1==2\n",
      "z = 2\n",
      "else\n",
      "a = 3\n",
      "end # after this a = 3 and z is undefined\n",
      "a,z"
     ],
     "language": "python",
     "metadata": {},
     "outputs": [
      {
       "ename": "LoadError",
       "evalue": "z not defined\nwhile loading In[122], in expression starting on line 8",
       "output_type": "pyerr",
       "traceback": [
        "z not defined\nwhile loading In[122], in expression starting on line 8",
        ""
       ]
      }
     ],
     "prompt_number": 122
    },
    {
     "cell_type": "code",
     "collapsed": false,
     "input": [
      "1==2 ? \"A\" : \"B\" # standard ternary operator"
     ],
     "language": "python",
     "metadata": {},
     "outputs": [
      {
       "metadata": {},
       "output_type": "pyout",
       "prompt_number": 123,
       "text": [
        "\"B\""
       ]
      }
     ],
     "prompt_number": 123
    },
    {
     "cell_type": "code",
     "collapsed": false,
     "input": [
      "i = 1\n",
      "while true\n",
      "i += 1\n",
      "if i > 10\n",
      "break\n",
      "end\n",
      "end\n",
      "i"
     ],
     "language": "python",
     "metadata": {},
     "outputs": [
      {
       "metadata": {},
       "output_type": "pyout",
       "prompt_number": 124,
       "text": [
        "11"
       ]
      }
     ],
     "prompt_number": 124
    },
    {
     "cell_type": "code",
     "collapsed": false,
     "input": [
      "for x in 1:10 # x in collection\n",
      "if 3 < x < 6\n",
      "continue # skip one iteration\n",
      "end\n",
      "println(x)\n",
      "end # x is introduced in loop outer scope"
     ],
     "language": "python",
     "metadata": {},
     "outputs": [
      {
       "output_type": "stream",
       "stream": "stdout",
       "text": [
        "1"
       ]
      },
      {
       "output_type": "stream",
       "stream": "stdout",
       "text": [
        "\n",
        "2\n",
        "3\n",
        "6\n",
        "7\n",
        "8\n",
        "9\n",
        "10\n"
       ]
      }
     ],
     "prompt_number": 125
    },
    {
     "cell_type": "heading",
     "level": 6,
     "metadata": {},
     "source": [
      "You can de\u001c",
      "ne your own functions:"
     ]
    },
    {
     "cell_type": "code",
     "collapsed": false,
     "input": [
      "f(x, y = 10) = x + y # new function f with y defaulting to 10 last result returned"
     ],
     "language": "python",
     "metadata": {},
     "outputs": [
      {
       "metadata": {},
       "output_type": "pyout",
       "prompt_number": 126,
       "text": [
        "f (generic function with 2 methods)"
       ]
      }
     ],
     "prompt_number": 126
    },
    {
     "cell_type": "code",
     "collapsed": false,
     "input": [
      "f(3, 2) # simple call, 5 returned"
     ],
     "language": "python",
     "metadata": {},
     "outputs": [
      {
       "metadata": {},
       "output_type": "pyout",
       "prompt_number": 127,
       "text": [
        "5"
       ]
      }
     ],
     "prompt_number": 127
    },
    {
     "cell_type": "code",
     "collapsed": false,
     "input": [
      "f(3) # 13 returned"
     ],
     "language": "python",
     "metadata": {},
     "outputs": [
      {
       "metadata": {},
       "output_type": "pyout",
       "prompt_number": 128,
       "text": [
        "13"
       ]
      }
     ],
     "prompt_number": 128
    },
    {
     "cell_type": "code",
     "collapsed": false,
     "input": [
      "function g(x::Int64, y::Int64) # type restriction\n",
      "return y, x # explicit return of a tuple\n",
      "end"
     ],
     "language": "python",
     "metadata": {},
     "outputs": [
      {
       "metadata": {},
       "output_type": "pyout",
       "prompt_number": 129,
       "text": [
        "g (generic function with 1 method)"
       ]
      }
     ],
     "prompt_number": 129
    },
    {
     "cell_type": "code",
     "collapsed": false,
     "input": [
      "apply(g, 3, 4) # call with apply"
     ],
     "language": "python",
     "metadata": {},
     "outputs": [
      {
       "metadata": {},
       "output_type": "pyout",
       "prompt_number": 130,
       "text": [
        "(4,3)"
       ]
      }
     ],
     "prompt_number": 130
    },
    {
     "cell_type": "code",
     "collapsed": false,
     "input": [
      "apply(g, 3, 4.0) # error - wrong argument"
     ],
     "language": "python",
     "metadata": {},
     "outputs": [
      {
       "ename": "LoadError",
       "evalue": "`g` has no method matching g(::Int64, ::Float64)\nwhile loading In[131], in expression starting on line 1",
       "output_type": "pyerr",
       "traceback": [
        "`g` has no method matching g(::Int64, ::Float64)\nwhile loading In[131], in expression starting on line 1",
        ""
       ]
      }
     ],
     "prompt_number": 131
    },
    {
     "cell_type": "code",
     "collapsed": false,
     "input": [
      "g(x::Int64, y::Bool) = x * y # add multiple dispatch"
     ],
     "language": "python",
     "metadata": {},
     "outputs": [
      {
       "metadata": {},
       "output_type": "pyout",
       "prompt_number": 132,
       "text": [
        "g (generic function with 2 methods)"
       ]
      }
     ],
     "prompt_number": 132
    },
    {
     "cell_type": "code",
     "collapsed": false,
     "input": [
      "g(2, true) # second definition is invoked"
     ],
     "language": "python",
     "metadata": {},
     "outputs": [
      {
       "metadata": {},
       "output_type": "pyout",
       "prompt_number": 133,
       "text": [
        "2"
       ]
      }
     ],
     "prompt_number": 133
    },
    {
     "cell_type": "code",
     "collapsed": false,
     "input": [
      "methods(g) # list all methods defined for g"
     ],
     "language": "python",
     "metadata": {},
     "outputs": [
      {
       "html": [
        "2 methods for generic function <b>g</b>:<ul><li> g(x::<b>Int64</b>,y::<b>Int64</b>) at In[129]:2<li> g(x::<b>Int64</b>,y::<b>Bool</b>) at In[132]:1</ul>"
       ],
       "metadata": {},
       "output_type": "pyout",
       "prompt_number": 134,
       "text": [
        "# 2 methods for generic function \"g\":\n",
        "g(x::Int64,y::Int64) at In[129]:2\n",
        "g(x::Int64,y::Bool) at In[132]:1"
       ]
      }
     ],
     "prompt_number": 134
    },
    {
     "cell_type": "code",
     "collapsed": false,
     "input": [
      "(x -> x^2)(3) # anonymous function with a call"
     ],
     "language": "python",
     "metadata": {},
     "outputs": [
      {
       "metadata": {},
       "output_type": "pyout",
       "prompt_number": 135,
       "text": [
        "9"
       ]
      }
     ],
     "prompt_number": 135
    },
    {
     "cell_type": "code",
     "collapsed": false,
     "input": [
      "() -> 0 # anonymous function with no arguments"
     ],
     "language": "python",
     "metadata": {},
     "outputs": [
      {
       "metadata": {},
       "output_type": "pyout",
       "prompt_number": 136,
       "text": [
        "(anonymous function)"
       ]
      }
     ],
     "prompt_number": 136
    },
    {
     "cell_type": "code",
     "collapsed": false,
     "input": [
      "h(x...) = sum(x)/length(x) - mean(x) # vararg function; x is a tuple"
     ],
     "language": "python",
     "metadata": {},
     "outputs": [
      {
       "metadata": {},
       "output_type": "pyout",
       "prompt_number": 137,
       "text": [
        "h (generic function with 1 method)"
       ]
      }
     ],
     "prompt_number": 137
    },
    {
     "cell_type": "code",
     "collapsed": false,
     "input": [
      "h(1, 2, 3) # result is 0"
     ],
     "language": "python",
     "metadata": {},
     "outputs": [
      {
       "metadata": {},
       "output_type": "pyout",
       "prompt_number": 138,
       "text": [
        "0.0"
       ]
      }
     ],
     "prompt_number": 138
    },
    {
     "cell_type": "code",
     "collapsed": false,
     "input": [
      "x = (2, 3) # tuple\n",
      "f(x) # error"
     ],
     "language": "python",
     "metadata": {},
     "outputs": [
      {
       "ename": "LoadError",
       "evalue": "`+` has no method matching +(::(Int64,Int64), ::Int64)\nwhile loading In[139], in expression starting on line 2",
       "output_type": "pyerr",
       "traceback": [
        "`+` has no method matching +(::(Int64,Int64), ::Int64)\nwhile loading In[139], in expression starting on line 2",
        "",
        " in f at In[126]:1"
       ]
      }
     ],
     "prompt_number": 139
    },
    {
     "cell_type": "code",
     "collapsed": false,
     "input": [
      "f(x...) # OK - tuple unpacking\uff08\u51fd\u6570\u7684\u53c2\u6570\u672c\u8eab\u5c31\u662f\u5f53\u4e00\u4e2a\u5143\u7ec4\u4f20\u7ed9\u51fd\u6570\u5185\u90e8\u7684\uff09"
     ],
     "language": "python",
     "metadata": {},
     "outputs": [
      {
       "metadata": {},
       "output_type": "pyout",
       "prompt_number": 140,
       "text": [
        "5"
       ]
      }
     ],
     "prompt_number": 140
    },
    {
     "cell_type": "code",
     "collapsed": false,
     "input": [
      "methods(f)"
     ],
     "language": "python",
     "metadata": {},
     "outputs": [
      {
       "html": [
        "2 methods for generic function <b>f</b>:<ul><li> f(x) at In[126]:1<li> f(x,y) at In[126]:1</ul>"
       ],
       "metadata": {},
       "output_type": "pyout",
       "prompt_number": 141,
       "text": [
        "# 2 methods for generic function \"f\":\n",
        "f(x) at In[126]:1\n",
        "f(x,y) at In[126]:1"
       ]
      }
     ],
     "prompt_number": 141
    },
    {
     "cell_type": "code",
     "collapsed": false,
     "input": [
      "s(x; a = 1, b = 1) = x * a / b # function with keyword arguments a and b"
     ],
     "language": "python",
     "metadata": {},
     "outputs": [
      {
       "metadata": {},
       "output_type": "pyout",
       "prompt_number": 142,
       "text": [
        "s (generic function with 1 method)"
       ]
      }
     ],
     "prompt_number": 142
    },
    {
     "cell_type": "code",
     "collapsed": false,
     "input": [
      "s(3, b = 2) # call with keyword argument"
     ],
     "language": "python",
     "metadata": {},
     "outputs": [
      {
       "metadata": {},
       "output_type": "pyout",
       "prompt_number": 143,
       "text": [
        "1.5"
       ]
      }
     ],
     "prompt_number": 143
    },
    {
     "cell_type": "code",
     "collapsed": false,
     "input": [
      "t(; x::Int64 = 2) = x # single keyword argument"
     ],
     "language": "python",
     "metadata": {},
     "outputs": [
      {
       "metadata": {},
       "output_type": "pyout",
       "prompt_number": 144,
       "text": [
        "t (generic function with 1 method)"
       ]
      }
     ],
     "prompt_number": 144
    },
    {
     "cell_type": "code",
     "collapsed": false,
     "input": [
      "t() # 2 returned"
     ],
     "language": "python",
     "metadata": {},
     "outputs": [
      {
       "metadata": {},
       "output_type": "pyout",
       "prompt_number": 145,
       "text": [
        "2"
       ]
      }
     ],
     "prompt_number": 145
    },
    {
     "cell_type": "code",
     "collapsed": false,
     "input": [
      "t(; x::Bool = true) = x # no multiple dispatch for keyword arguments; function overwritten\uff08\u5173\u952e\u5b57\u53c2\u6570\u4e0d\u53c2\u4e0e\u51fd\u6570\u6807\u7b7e\u751f\u6210\uff0c\u6240\u4ee5\u524d\u4e00\u4e2a\u5b9a\u4e49\u88ab\u8986\u76d6\uff09"
     ],
     "language": "python",
     "metadata": {},
     "outputs": [
      {
       "metadata": {},
       "output_type": "pyout",
       "prompt_number": 146,
       "text": [
        "t (generic function with 1 method)"
       ]
      }
     ],
     "prompt_number": 146
    },
    {
     "cell_type": "code",
     "collapsed": false,
     "input": [
      "t() # true; old function was overwritten"
     ],
     "language": "python",
     "metadata": {},
     "outputs": [
      {
       "metadata": {},
       "output_type": "pyout",
       "prompt_number": 147,
       "text": [
        "true"
       ]
      }
     ],
     "prompt_number": 147
    },
    {
     "cell_type": "code",
     "collapsed": false,
     "input": [
      "q(f::Function, x) = 2 * f(x) # simple function wrapper"
     ],
     "language": "python",
     "metadata": {},
     "outputs": [
      {
       "metadata": {},
       "output_type": "pyout",
       "prompt_number": 148,
       "text": [
        "q (generic function with 1 method)"
       ]
      }
     ],
     "prompt_number": 148
    },
    {
     "cell_type": "code",
     "collapsed": false,
     "input": [
      "q(x -> 2 * x, 10) # 40 returned"
     ],
     "language": "python",
     "metadata": {},
     "outputs": [
      {
       "metadata": {},
       "output_type": "pyout",
       "prompt_number": 149,
       "text": [
        "40"
       ]
      }
     ],
     "prompt_number": 149
    },
    {
     "cell_type": "code",
     "collapsed": false,
     "input": [
      "q(10) do x # creation of anonymous function by do construct\n",
      "2 * x\n",
      "end"
     ],
     "language": "python",
     "metadata": {},
     "outputs": [
      {
       "metadata": {},
       "output_type": "pyout",
       "prompt_number": 150,
       "text": [
        "40"
       ]
      }
     ],
     "prompt_number": 150
    },
    {
     "cell_type": "code",
     "collapsed": false,
     "input": [
      "m = reshape(1:12, 3, 4)\n",
      "map((x) -> x ^ 2, m) # 3x4 array returned with transofmed data"
     ],
     "language": "python",
     "metadata": {},
     "outputs": [
      {
       "metadata": {},
       "output_type": "pyout",
       "prompt_number": 151,
       "text": [
        "3x4 Array{Int64,2}:\n",
        " 1  16  49  100\n",
        " 4  25  64  121\n",
        " 9  36  81  144"
       ]
      }
     ],
     "prompt_number": 151
    },
    {
     "cell_type": "heading",
     "level": 6,
     "metadata": {},
     "source": [
      "As a convention functions with name ending with ! change their arguments in-place.Default function argument beasts:"
     ]
    },
    {
     "cell_type": "code",
     "collapsed": false,
     "input": [
      "y = 10\n",
      "f1(x=y) = x; f1() # 10"
     ],
     "language": "python",
     "metadata": {},
     "outputs": [
      {
       "metadata": {},
       "output_type": "pyout",
       "prompt_number": 152,
       "text": [
        "10"
       ]
      }
     ],
     "prompt_number": 152
    },
    {
     "cell_type": "code",
     "collapsed": false,
     "input": [
      "f2(x=y,y=1) = x; f2() # 10\uff08\u53ef\u89c1\u51fd\u6570\u53c2\u6570\u4e2d\u591a\u4e2a\u7b49\u5f0f\u6c42\u503c\u987a\u5e8f\u662f\u4ece\u5de6\u5230\u53f3\u7684\uff09"
     ],
     "language": "python",
     "metadata": {},
     "outputs": [
      {
       "metadata": {},
       "output_type": "pyout",
       "prompt_number": 153,
       "text": [
        "10"
       ]
      }
     ],
     "prompt_number": 153
    },
    {
     "cell_type": "code",
     "collapsed": false,
     "input": [
      "f3(y=1,x=y) = x; f3() # 1"
     ],
     "language": "python",
     "metadata": {},
     "outputs": [
      {
       "metadata": {},
       "output_type": "pyout",
       "prompt_number": 154,
       "text": [
        "1"
       ]
      }
     ],
     "prompt_number": 154
    },
    {
     "cell_type": "code",
     "collapsed": false,
     "input": [
      "f4(;x=y) = x; f4() # 10"
     ],
     "language": "python",
     "metadata": {},
     "outputs": [
      {
       "metadata": {},
       "output_type": "pyout",
       "prompt_number": 155,
       "text": [
        "10"
       ]
      }
     ],
     "prompt_number": 155
    },
    {
     "cell_type": "code",
     "collapsed": false,
     "input": [
      "f5(;x=y,y=1) = x; f5() # error - y not defined yet :(\uff08Julia\u81ea\u8eab\u8fd8\u4e0d\u5b8c\u5584\uff01\uff09"
     ],
     "language": "python",
     "metadata": {},
     "outputs": [
      {
       "ename": "LoadError",
       "evalue": "y not defined\nwhile loading In[156], in expression starting on line 1",
       "output_type": "pyerr",
       "traceback": [
        "y not defined\nwhile loading In[156], in expression starting on line 1",
        ""
       ]
      }
     ],
     "prompt_number": 156
    },
    {
     "cell_type": "code",
     "collapsed": false,
     "input": [
      "f6(;y=1,x=y) = x; f6() # 1"
     ],
     "language": "python",
     "metadata": {},
     "outputs": [
      {
       "metadata": {},
       "output_type": "pyout",
       "prompt_number": 157,
       "text": [
        "1"
       ]
      }
     ],
     "prompt_number": 157
    },
    {
     "cell_type": "heading",
     "level": 1,
     "metadata": {},
     "source": [
      "Variable scoping"
     ]
    },
    {
     "cell_type": "heading",
     "level": 6,
     "metadata": {},
     "source": [
      "The following constructs introduce new variable scope: function, while, for, try/catch, let, type.You can de\u001c",
      "ne variables as:"
     ]
    },
    {
     "cell_type": "heading",
     "level": 6,
     "metadata": {},
     "source": [
      "global: use variable from global scope;"
     ]
    },
    {
     "cell_type": "heading",
     "level": 6,
     "metadata": {},
     "source": [
      "local: de\u001c",
      "ne new variable in current scope;"
     ]
    },
    {
     "cell_type": "heading",
     "level": 6,
     "metadata": {},
     "source": [
      "const: ensure variable type is constant (global only)."
     ]
    },
    {
     "cell_type": "heading",
     "level": 6,
     "metadata": {},
     "source": [
      "Special cases:"
     ]
    },
    {
     "cell_type": "code",
     "collapsed": false,
     "input": [
      "workspace() # clear workspace\n",
      "t # error, variable does not exist"
     ],
     "language": "python",
     "metadata": {},
     "outputs": [
      {
       "ename": "LoadError",
       "evalue": "x not defined\nwhile loading In[211], in expression starting on line 2",
       "output_type": "pyerr",
       "traceback": [
        "x not defined\nwhile loading In[211], in expression starting on line 2",
        ""
       ]
      }
     ],
     "prompt_number": 211
    },
    {
     "cell_type": "code",
     "collapsed": false,
     "input": [
      "f() = global t = 1\n",
      "f() # after the call t is defined globally"
     ],
     "language": "python",
     "metadata": {},
     "outputs": [
      {
       "metadata": {},
       "output_type": "pyout",
       "prompt_number": 160,
       "text": [
        "1"
       ]
      }
     ],
     "prompt_number": 160
    },
    {
     "cell_type": "code",
     "collapsed": false,
     "input": [
      "function f1(n)\n",
      "x = 0\n",
      "for i = 1:n\n",
      "x = i\n",
      "end\n",
      "x\n",
      "end\n",
      "f1(10) # 10; inside loop we use outer local variable"
     ],
     "language": "python",
     "metadata": {},
     "outputs": [
      {
       "metadata": {},
       "output_type": "pyout",
       "prompt_number": 161,
       "text": [
        "10"
       ]
      }
     ],
     "prompt_number": 161
    },
    {
     "cell_type": "code",
     "collapsed": false,
     "input": [
      "function f2(n)\n",
      "x = 0\n",
      "for i = 1:n\n",
      "local x # x\u5728for scope\u4e2d\u88ab\u91cd\u5b9a\u4e49\uff0c\u6240\u4ee5\u4ee5\u4e0b\u8d4b\u503c\u8bed\u53e5\u4e0d\u80fd\u5f71\u54cd\u5230\u8be5scope\u5916\u90e8\u7684x\n",
      "x = i\n",
      "end\n",
      "x\n",
      "end\n",
      "f2(10) # 0; inside loop we use new local variable"
     ],
     "language": "python",
     "metadata": {},
     "outputs": [
      {
       "metadata": {},
       "output_type": "pyout",
       "prompt_number": 162,
       "text": [
        "0"
       ]
      }
     ],
     "prompt_number": 162
    },
    {
     "cell_type": "code",
     "collapsed": false,
     "input": [
      "function f3(n)\n",
      "for i = 1:n\n",
      "local x3\n",
      "x3 = i\n",
      "end\n",
      "x3\n",
      "end\n",
      "f3(10) # error; x3 not defined in outer scope"
     ],
     "language": "python",
     "metadata": {},
     "outputs": [
      {
       "ename": "LoadError",
       "evalue": "x3 not defined\nwhile loading In[164], in expression starting on line 8",
       "output_type": "pyerr",
       "traceback": [
        "x3 not defined\nwhile loading In[164], in expression starting on line 8",
        "",
        " in f3 at In[164]:6"
       ]
      }
     ],
     "prompt_number": 164
    },
    {
     "cell_type": "code",
     "collapsed": false,
     "input": [
      "const x4 = 2\n",
      "x4 = 3 # warning, value changed"
     ],
     "language": "python",
     "metadata": {},
     "outputs": [
      {
       "metadata": {},
       "output_type": "pyout",
       "prompt_number": 165,
       "text": [
        "3"
       ]
      },
      {
       "output_type": "stream",
       "stream": "stderr",
       "text": [
        "Warning: redefining constant x4\n"
       ]
      }
     ],
     "prompt_number": 165
    },
    {
     "cell_type": "code",
     "collapsed": false,
     "input": [
      "x4 = 3.0 # error, wrong type"
     ],
     "language": "python",
     "metadata": {},
     "outputs": [
      {
       "ename": "LoadError",
       "evalue": "invalid redefinition of constant x4\nwhile loading In[166], in expression starting on line 1",
       "output_type": "pyerr",
       "traceback": [
        "invalid redefinition of constant x4\nwhile loading In[166], in expression starting on line 1",
        ""
       ]
      }
     ],
     "prompt_number": 166
    },
    {
     "cell_type": "code",
     "collapsed": false,
     "input": [
      "function fun() # no warning\n",
      "const x5 = 2\n",
      "x5 = true\n",
      "end\n",
      "fun() # true, no warning"
     ],
     "language": "python",
     "metadata": {},
     "outputs": [
      {
       "metadata": {},
       "output_type": "pyout",
       "prompt_number": 167,
       "text": [
        "true"
       ]
      }
     ],
     "prompt_number": 167
    },
    {
     "cell_type": "heading",
     "level": 6,
     "metadata": {},
     "source": [
      "Global constants speed up execution.The let rebinds the variable:"
     ]
    },
    {
     "cell_type": "code",
     "collapsed": false,
     "input": [
      "Fs = cell(2)\n",
      "i = 1\n",
      "while i <= 2\n",
      "j = i\n",
      "Fs[i] = () -> j\n",
      "i += 1\n",
      "end\n",
      "Fs[1](), Fs[2]() # (2, 2); the same binding for j"
     ],
     "language": "python",
     "metadata": {},
     "outputs": [
      {
       "metadata": {},
       "output_type": "pyout",
       "prompt_number": 168,
       "text": [
        "(2,2)"
       ]
      }
     ],
     "prompt_number": 168
    },
    {
     "cell_type": "code",
     "collapsed": false,
     "input": [
      "Fs = cell(2)\n",
      "i = 1\n",
      "while i <= 2\n",
      "let j = i\n",
      "Fs[i] = () -> j\n",
      "end\n",
      "i += 1\n",
      "end\n",
      "Fs[1](), Fs[2]() # (1, 2); new binding for j"
     ],
     "language": "python",
     "metadata": {},
     "outputs": [
      {
       "metadata": {},
       "output_type": "pyout",
       "prompt_number": 169,
       "text": [
        "(1,2)"
       ]
      }
     ],
     "prompt_number": 169
    },
    {
     "cell_type": "code",
     "collapsed": false,
     "input": [
      "Fs = cell(2)\n",
      "i = 1\n",
      "for i in 1:2\n",
      "j = i\n",
      "Fs[i] = () -> j\n",
      "end\n",
      "Fs[1](), Fs[2]() # (1, 2); for loops and comrehensions rebind variables"
     ],
     "language": "python",
     "metadata": {},
     "outputs": [
      {
       "metadata": {},
       "output_type": "pyout",
       "prompt_number": 170,
       "text": [
        "(1,2)"
       ]
      }
     ],
     "prompt_number": 170
    },
    {
     "cell_type": "heading",
     "level": 1,
     "metadata": {},
     "source": [
      "Modules"
     ]
    },
    {
     "cell_type": "heading",
     "level": 6,
     "metadata": {},
     "source": [
      "Modules encapsulate code. Can be reloaded, which is useful to redefi\u001c",
      "ne functions and types, as top level\n",
      "functions and types are de\u001c",
      "ned as constants."
     ]
    },
    {
     "cell_type": "code",
     "collapsed": false,
     "input": [
      "module M # module name\n",
      "export x6 # what module exposes for the world\n",
      "x6 = 1\n",
      "y6 = 2 # hidden variable\n",
      "end"
     ],
     "language": "python",
     "metadata": {},
     "outputs": [],
     "prompt_number": 171
    },
    {
     "cell_type": "code",
     "collapsed": false,
     "input": [
      "whos(M) # list exported variables"
     ],
     "language": "python",
     "metadata": {},
     "outputs": [
      {
       "output_type": "stream",
       "stream": "stdout",
       "text": [
        "M                             "
       ]
      },
      {
       "output_type": "stream",
       "stream": "stdout",
       "text": [
        "Module\n",
        "x6                            Int64\n"
       ]
      }
     ],
     "prompt_number": 172
    },
    {
     "cell_type": "code",
     "collapsed": false,
     "input": [
      "x6 # not found in global scope"
     ],
     "language": "python",
     "metadata": {},
     "outputs": [
      {
       "ename": "LoadError",
       "evalue": "x6 not defined\nwhile loading In[174], in expression starting on line 1",
       "output_type": "pyerr",
       "traceback": [
        "x6 not defined\nwhile loading In[174], in expression starting on line 1",
        ""
       ]
      }
     ],
     "prompt_number": 174
    },
    {
     "cell_type": "code",
     "collapsed": false,
     "input": [
      "M.y6 # direct variable access possible"
     ],
     "language": "python",
     "metadata": {},
     "outputs": [
      {
       "metadata": {},
       "output_type": "pyout",
       "prompt_number": 175,
       "text": [
        "2"
       ]
      }
     ],
     "prompt_number": 175
    },
    {
     "cell_type": "code",
     "collapsed": false,
     "input": [
      "using M"
     ],
     "language": "python",
     "metadata": {},
     "outputs": [],
     "prompt_number": 176
    },
    {
     "cell_type": "code",
     "collapsed": false,
     "input": [
      "x6"
     ],
     "language": "python",
     "metadata": {},
     "outputs": [
      {
       "metadata": {},
       "output_type": "pyout",
       "prompt_number": 177,
       "text": [
        "1"
       ]
      }
     ],
     "prompt_number": 177
    },
    {
     "cell_type": "code",
     "collapsed": false,
     "input": [
      "import M.y6"
     ],
     "language": "python",
     "metadata": {},
     "outputs": [],
     "prompt_number": 178
    },
    {
     "cell_type": "code",
     "collapsed": false,
     "input": [
      "y6"
     ],
     "language": "python",
     "metadata": {},
     "outputs": [
      {
       "metadata": {},
       "output_type": "pyout",
       "prompt_number": 179,
       "text": [
        "2"
       ]
      }
     ],
     "prompt_number": 179
    },
    {
     "cell_type": "heading",
     "level": 1,
     "metadata": {},
     "source": [
      "Operators"
     ]
    },
    {
     "cell_type": "heading",
     "level": 6,
     "metadata": {},
     "source": [
      "Julia follows standard operators with the following quirks:"
     ]
    },
    {
     "cell_type": "code",
     "collapsed": false,
     "input": [
      "true || false # binary or operator (singeltons only), || and && use short-circut evaluation"
     ],
     "language": "python",
     "metadata": {},
     "outputs": [
      {
       "metadata": {},
       "output_type": "pyout",
       "prompt_number": 180,
       "text": [
        "true"
       ]
      }
     ],
     "prompt_number": 180
    },
    {
     "cell_type": "code",
     "collapsed": false,
     "input": [
      "[1 2] & [2 1] # bitwise and operator"
     ],
     "language": "python",
     "metadata": {},
     "outputs": [
      {
       "metadata": {},
       "output_type": "pyout",
       "prompt_number": 181,
       "text": [
        "1x2 Array{Int64,2}:\n",
        " 0  0"
       ]
      }
     ],
     "prompt_number": 181
    },
    {
     "cell_type": "code",
     "collapsed": false,
     "input": [
      "1 < 2 < 3 # chaining conditions is OK (singeltons only)"
     ],
     "language": "python",
     "metadata": {},
     "outputs": [
      {
       "metadata": {},
       "output_type": "pyout",
       "prompt_number": 182,
       "text": [
        "true"
       ]
      }
     ],
     "prompt_number": 182
    },
    {
     "cell_type": "code",
     "collapsed": false,
     "input": [
      "[1 2] .< [2 1] # for vectorized operators need to add \u2019.\u2019 in front"
     ],
     "language": "python",
     "metadata": {},
     "outputs": [
      {
       "metadata": {},
       "output_type": "pyout",
       "prompt_number": 183,
       "text": [
        "1x2 BitArray{2}:\n",
        " true  false"
       ]
      }
     ],
     "prompt_number": 183
    },
    {
     "cell_type": "code",
     "collapsed": false,
     "input": [
      "x = [1 2 3]\n",
      "y = [1, 2, 3]\n",
      "x + y # error"
     ],
     "language": "python",
     "metadata": {},
     "outputs": [
      {
       "ename": "LoadError",
       "evalue": "dimensions must match\nwhile loading In[184], in expression starting on line 3",
       "output_type": "pyerr",
       "traceback": [
        "dimensions must match\nwhile loading In[184], in expression starting on line 3",
        "",
        " in promote_shape at operators.jl:191",
        " in + at array.jl:719"
       ]
      }
     ],
     "prompt_number": 184
    },
    {
     "cell_type": "code",
     "collapsed": false,
     "input": [
      "x .+ y # 3x3 matrix, dimension broadcasting"
     ],
     "language": "python",
     "metadata": {},
     "outputs": [
      {
       "metadata": {},
       "output_type": "pyout",
       "prompt_number": 185,
       "text": [
        "3x3 Array{Int64,2}:\n",
        " 2  3  4\n",
        " 3  4  5\n",
        " 4  5  6"
       ]
      }
     ],
     "prompt_number": 185
    },
    {
     "cell_type": "code",
     "collapsed": false,
     "input": [
      "x + y' # 1x3 matrix"
     ],
     "language": "python",
     "metadata": {},
     "outputs": [
      {
       "metadata": {},
       "output_type": "pyout",
       "prompt_number": 187,
       "text": [
        "1x3 Array{Int64,2}:\n",
        " 2  4  6"
       ]
      }
     ],
     "prompt_number": 187
    },
    {
     "cell_type": "code",
     "collapsed": false,
     "input": [
      "x * y # array multiplication, 1-element vector (not scalar)"
     ],
     "language": "python",
     "metadata": {},
     "outputs": [
      {
       "metadata": {},
       "output_type": "pyout",
       "prompt_number": 188,
       "text": [
        "1-element Array{Int64,1}:\n",
        " 14"
       ]
      }
     ],
     "prompt_number": 188
    },
    {
     "cell_type": "code",
     "collapsed": false,
     "input": [
      "x .* y # elementwise multiplication"
     ],
     "language": "python",
     "metadata": {},
     "outputs": [
      {
       "metadata": {},
       "output_type": "pyout",
       "prompt_number": 189,
       "text": [
        "3x3 Array{Int64,2}:\n",
        " 1  2  3\n",
        " 2  4  6\n",
        " 3  6  9"
       ]
      }
     ],
     "prompt_number": 189
    },
    {
     "cell_type": "code",
     "collapsed": false,
     "input": [
      "x == [1 2 3] # true, object looks the same"
     ],
     "language": "python",
     "metadata": {},
     "outputs": [
      {
       "metadata": {},
       "output_type": "pyout",
       "prompt_number": 190,
       "text": [
        "true"
       ]
      }
     ],
     "prompt_number": 190
    },
    {
     "cell_type": "code",
     "collapsed": false,
     "input": [
      "x === [1 2 3] # false, objects not identical"
     ],
     "language": "python",
     "metadata": {},
     "outputs": [
      {
       "metadata": {},
       "output_type": "pyout",
       "prompt_number": 191,
       "text": [
        "false"
       ]
      }
     ],
     "prompt_number": 191
    },
    {
     "cell_type": "code",
     "collapsed": false,
     "input": [
      "z = reshape(1:9, 3, 3)\n",
      "z + x # error"
     ],
     "language": "python",
     "metadata": {},
     "outputs": [
      {
       "ename": "LoadError",
       "evalue": "dimensions must match\nwhile loading In[192], in expression starting on line 2",
       "output_type": "pyerr",
       "traceback": [
        "dimensions must match\nwhile loading In[192], in expression starting on line 2",
        "",
        " in promote_shape at operators.jl:200"
       ]
      }
     ],
     "prompt_number": 192
    },
    {
     "cell_type": "code",
     "collapsed": false,
     "input": [
      "z .+ x # x broadcaseded vertically\uff08x\u662f\u884c\u77e9\u9635\uff0c\u6240\u4ee5\u6309\u884c\u52a0\u5230z\u7684\u5404\u884c\u4e0a\uff0c\u5373\u5782\u76f4\u65b9\u5411\u6269\u6563\uff09"
     ],
     "language": "python",
     "metadata": {},
     "outputs": [
      {
       "metadata": {},
       "output_type": "pyout",
       "prompt_number": 195,
       "text": [
        "3x3 Array{Int64,2}:\n",
        " 2  6  10\n",
        " 3  7  11\n",
        " 4  8  12"
       ]
      }
     ],
     "prompt_number": 195
    },
    {
     "cell_type": "code",
     "collapsed": false,
     "input": [
      "z .+ y # y broadcasted horizontally\uff08y\u662f\u5217\u77e9\u9635\uff0c\u6240\u4ee5\u6309\u5217\u52a0\u5230z\u7684\u5404\u5217\u4e0a\uff0c\u5373\u6c34\u5e73\u65b9\u5411\u6269\u6563\uff09"
     ],
     "language": "python",
     "metadata": {},
     "outputs": [
      {
       "metadata": {},
       "output_type": "pyout",
       "prompt_number": 196,
       "text": [
        "3x3 Array{Int64,2}:\n",
        " 2  5   8\n",
        " 4  7  10\n",
        " 6  9  12"
       ]
      }
     ],
     "prompt_number": 196
    },
    {
     "cell_type": "code",
     "collapsed": false,
     "input": [
      "broadcast(+, [1 2], [1; 2]) # explicit broadcast of singelton dimensions, function + is called for each array element"
     ],
     "language": "python",
     "metadata": {},
     "outputs": [
      {
       "metadata": {},
       "output_type": "pyout",
       "prompt_number": 197,
       "text": [
        "2x2 Array{Int64,2}:\n",
        " 2  3\n",
        " 3  4"
       ]
      }
     ],
     "prompt_number": 197
    },
    {
     "cell_type": "heading",
     "level": 6,
     "metadata": {},
     "source": [
      "TODO: Many typical matrix transformation functions are available"
     ]
    }
   ],
   "metadata": {}
  }
 ]
}